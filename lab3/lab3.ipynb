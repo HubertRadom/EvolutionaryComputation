{
 "cells": [
  {
   "cell_type": "code",
   "execution_count": 1,
   "metadata": {},
   "outputs": [],
   "source": [
    "import numpy as np\n",
    "import pandas as pd\n",
    "import random\n",
    "from matplotlib import pyplot as plt\n",
    "from numba import jit\n",
    "from tqdm import tqdm\n",
    "from itertools import combinations, permutations\n",
    "import time"
   ]
  },
  {
   "cell_type": "code",
   "execution_count": 2,
   "metadata": {},
   "outputs": [],
   "source": [
    "data_A = np.loadtxt('../data/TSPA.csv', delimiter=';').astype(np.int64)\n",
    "data_B = np.loadtxt('../data/TSPB.csv', delimiter=';').astype(np.int64)\n",
    "data_C = np.loadtxt('../data/TSPC.csv', delimiter=';').astype(np.int64)\n",
    "data_D = np.loadtxt('../data/TSPD.csv', delimiter=';').astype(np.int64)"
   ]
  },
  {
   "cell_type": "code",
   "execution_count": 3,
   "metadata": {},
   "outputs": [],
   "source": [
    "def create_cost_matrix(data):\n",
    "    x = data[:, :1]\n",
    "    y = data[:, 1:2]\n",
    "    cost = data[:, 2:3]\n",
    "    return (((x - x.reshape(1, -1))**2 + (y - y.reshape(1, -1))**2) ** (1/2) + cost.reshape(1, -1)).round().astype(np.int64)\n",
    "\n",
    "def create_dist_matrix(data):\n",
    "    x = data[:, :1]\n",
    "    y = data[:, 1:2]\n",
    "    #cost = data[:, 2:3]\n",
    "    return (((x - x.reshape(1, -1))**2 + (y - y.reshape(1, -1))**2) ** (1/2)).round().astype(np.int64)"
   ]
  },
  {
   "cell_type": "code",
   "execution_count": 4,
   "metadata": {},
   "outputs": [],
   "source": [
    "cost_matrix_A = create_cost_matrix(data_A)"
   ]
  },
  {
   "cell_type": "code",
   "execution_count": 5,
   "metadata": {},
   "outputs": [
    {
     "data": {
      "text/plain": [
       "array([[  84, 2032, 2098, ..., 4159, 3783, 1514],\n",
       "       [1633,  483, 2398, ..., 3349, 2266,  817],\n",
       "       [ 720, 1419, 1462, ..., 3640, 3149,  964],\n",
       "       ...,\n",
       "       [2782, 2371, 3641, ..., 1461, 2908, 2554],\n",
       "       [2558, 1440, 3302, ..., 3060, 1309, 1773],\n",
       "       [1234,  936, 2062, ..., 3651, 2718,  364]], dtype=int64)"
      ]
     },
     "execution_count": 5,
     "metadata": {},
     "output_type": "execute_result"
    }
   ],
   "source": [
    "cost_matrix_A"
   ]
  },
  {
   "cell_type": "code",
   "execution_count": 6,
   "metadata": {},
   "outputs": [],
   "source": [
    "cost_matrix_B = create_cost_matrix(data_B)"
   ]
  },
  {
   "cell_type": "code",
   "execution_count": 7,
   "metadata": {},
   "outputs": [],
   "source": [
    "cost_matrix_C = create_cost_matrix(data_C)"
   ]
  },
  {
   "cell_type": "code",
   "execution_count": 8,
   "metadata": {},
   "outputs": [],
   "source": [
    "cost_matrix_D = create_cost_matrix(data_D)"
   ]
  },
  {
   "cell_type": "code",
   "execution_count": 9,
   "metadata": {},
   "outputs": [],
   "source": [
    "dist_matrix_A = create_dist_matrix(data_A)\n",
    "dist_matrix_B = create_dist_matrix(data_B)\n",
    "dist_matrix_C = create_dist_matrix(data_C)\n",
    "dist_matrix_D = create_dist_matrix(data_D)"
   ]
  },
  {
   "cell_type": "code",
   "execution_count": 10,
   "metadata": {},
   "outputs": [],
   "source": [
    "def plot(data, solution):\n",
    "    data_ordered = np.array([data[i] for i in solution])\n",
    "    all_data = np.array([data[i] for i in range(200)])\n",
    "\n",
    "    plt.figure(figsize=(10, 10), dpi=80)\n",
    "\n",
    "    plt.scatter(data_ordered[:,0], data_ordered[:,1], s=data_ordered[:,2]/data_ordered[:,2].max()*200, c='b')\n",
    "    plt.scatter(all_data[:,0], all_data[:,1], s=all_data[:,2]/all_data[:,2].max()*200, c='b')\n",
    "    plt.plot(data_ordered[:,0], data_ordered[:,1], 'y-')\n",
    "    plt.plot([data_ordered[0,0], data_ordered[-1,0]], [data_ordered[0,1], data_ordered[-1,1]], 'y-')\n",
    "    plt.show()"
   ]
  },
  {
   "cell_type": "code",
   "execution_count": 11,
   "metadata": {},
   "outputs": [],
   "source": [
    "def calculate_performance(cycle, cost_matrix):\n",
    "    total_sum = 0\n",
    "    for i in range(len(cycle)-1):\n",
    "        total_sum += cost_matrix[cycle[i], cycle[i+1]]\n",
    "    total_sum += cost_matrix[cycle[-1], cycle[0]]\n",
    "    return total_sum"
   ]
  },
  {
   "cell_type": "code",
   "execution_count": 12,
   "metadata": {},
   "outputs": [
    {
     "name": "stdout",
     "output_type": "stream",
     "text": [
      "[143 124 192  16  66 117  21 126 123  17   0  65  57 176  97 142 180 196\n",
      " 193  15 161 131  94 155 137  76 103   1 181  84  63  25  77 177 125 102\n",
      "  32  40  34  83  86  73 118 156  41  47  38 150 190  91  87 147  51  36\n",
      "  14  71 141  81 166 121 198 113  75 179 194 104 146 154  90 112  80  37\n",
      "  18  39 168  52 138 145 110 186  59 183 116  43   7 159  20 134  89  26\n",
      "  33  93  29  13 151  42 184 191 149  28]\n"
     ]
    },
    {
     "name": "stderr",
     "output_type": "stream",
     "text": [
      "C:\\Users\\hubra\\AppData\\Local\\Temp\\ipykernel_496\\3945026401.py:1: NumbaWarning: \u001b[1m\n",
      "Compilation is falling back to object mode WITH looplifting enabled because Function \"random_solution\" failed type inference due to: \u001b[1m\u001b[1m\u001b[1mNo implementation of function Function(<bound method Random.shuffle of <random.Random object at 0x0000016357929D50>>) found for signature:\n",
      " \n",
      " >>> shuffle(list(int64)<iv=None>)\n",
      " \n",
      "There are 2 candidate implementations:\n",
      "\u001b[1m  - Of which 2 did not match due to:\n",
      "  Overload in function 'shuffle_impl': File: numba\\cpython\\randomimpl.py: Line 1230.\n",
      "    With argument(s): '(list(int64)<iv=None>)':\u001b[0m\n",
      "\u001b[1m   Rejected as the implementation raised a specific error:\n",
      "     TypeError: The argument to shuffle() should be a buffer type\u001b[0m\n",
      "  raised from C:\\Users\\hubra\\AppData\\Local\\Packages\\PythonSoftwareFoundation.Python.3.10_qbz5n2kfra8p0\\LocalCache\\local-packages\\Python310\\site-packages\\numba\\cpython\\randomimpl.py:1206\n",
      "\u001b[0m\n",
      "\u001b[0m\u001b[1mDuring: resolving callee type: Function(<bound method Random.shuffle of <random.Random object at 0x0000016357929D50>>)\u001b[0m\n",
      "\u001b[0m\u001b[1mDuring: typing of call at C:\\Users\\hubra\\AppData\\Local\\Temp\\ipykernel_496\\3945026401.py (4)\n",
      "\u001b[0m\n",
      "\u001b[1m\n",
      "File \"..\\..\\..\\AppData\\Local\\Temp\\ipykernel_496\\3945026401.py\", line 4:\u001b[0m\n",
      "\u001b[1m<source missing, REPL/exec in use?>\u001b[0m\n",
      "\u001b[0m\n",
      "  @jit()\n",
      "C:\\Users\\hubra\\AppData\\Local\\Packages\\PythonSoftwareFoundation.Python.3.10_qbz5n2kfra8p0\\LocalCache\\local-packages\\Python310\\site-packages\\numba\\core\\object_mode_passes.py:151: NumbaWarning: \u001b[1mFunction \"random_solution\" was compiled in object mode without forceobj=True.\n",
      "\u001b[1m\n",
      "File \"..\\..\\..\\AppData\\Local\\Temp\\ipykernel_496\\3945026401.py\", line 1:\u001b[0m\n",
      "\u001b[1m<source missing, REPL/exec in use?>\u001b[0m\n",
      "\u001b[0m\n",
      "  warnings.warn(errors.NumbaWarning(warn_msg,\n",
      "C:\\Users\\hubra\\AppData\\Local\\Packages\\PythonSoftwareFoundation.Python.3.10_qbz5n2kfra8p0\\LocalCache\\local-packages\\Python310\\site-packages\\numba\\core\\object_mode_passes.py:161: NumbaDeprecationWarning: \u001b[1m\n",
      "Fall-back from the nopython compilation path to the object mode compilation path has been detected, this is deprecated behaviour.\n",
      "\n",
      "For more information visit https://numba.readthedocs.io/en/stable/reference/deprecation.html#deprecation-of-object-mode-fall-back-behaviour-when-using-jit\n",
      "\u001b[1m\n",
      "File \"..\\..\\..\\AppData\\Local\\Temp\\ipykernel_496\\3945026401.py\", line 1:\u001b[0m\n",
      "\u001b[1m<source missing, REPL/exec in use?>\u001b[0m\n",
      "\u001b[0m\n",
      "  warnings.warn(errors.NumbaDeprecationWarning(msg,\n"
     ]
    }
   ],
   "source": [
    "@jit()\n",
    "def random_solution(cost_matrix, limit=100):\n",
    "    random_solution_list = list(range(0,len(cost_matrix)))\n",
    "    random.shuffle(random_solution_list)\n",
    "    return np.array(random_solution_list)[:limit]\n",
    "\n",
    "solution = random_solution(cost_matrix_A, 100)\n",
    "print(solution)"
   ]
  },
  {
   "cell_type": "code",
   "execution_count": 13,
   "metadata": {},
   "outputs": [],
   "source": [
    "@jit()\n",
    "def greedy_cycle(cost_matrix, current_id, limit=100):\n",
    "    all_ids = set(list(range(0,len(cost_matrix))))\n",
    "    all_ids.remove(current_id)\n",
    "    solution = [current_id]\n",
    "    \n",
    "    for _ in range(1):\n",
    "        min_val = 99999\n",
    "        min_id = -1\n",
    "        for next_id in all_ids:\n",
    "            if cost_matrix[current_id][next_id] < min_val:\n",
    "                min_val = cost_matrix[current_id][next_id]\n",
    "                min_id = next_id\n",
    "        solution.append(min_id)\n",
    "        all_ids.remove(min_id)\n",
    "        current_id = min_id\n",
    "    \n",
    "    while len(solution) < limit:\n",
    "        min_delta = 99999\n",
    "        min_id = -1\n",
    "        insert_id = -1\n",
    "        for i in range(len(solution)-1):\n",
    "            for next_id in all_ids:\n",
    "                delta = cost_matrix[solution[i]][next_id] + cost_matrix[next_id][solution[i+1]] - cost_matrix[solution[i]][solution[i+1]]\n",
    "                if delta < min_delta:\n",
    "                    min_delta = delta\n",
    "                    min_id = next_id\n",
    "                    insert_id = i\n",
    "        for next_id in all_ids:\n",
    "            delta = cost_matrix[solution[-1]][next_id] + cost_matrix[next_id][solution[0]] - cost_matrix[solution[-1]][solution[0]]\n",
    "            if delta < min_delta:\n",
    "                min_delta = delta\n",
    "                min_id = next_id\n",
    "                insert_id = i\n",
    "        solution.insert(insert_id+1, min_id)\n",
    "        all_ids.remove(min_id)\n",
    "\n",
    "    return np.array(solution)"
   ]
  },
  {
   "cell_type": "code",
   "execution_count": 14,
   "metadata": {},
   "outputs": [],
   "source": [
    "# swap node in cycle and unused node\n",
    "def inter_exchange_delta(cycle, cost_matrix, used_cycle_id, unused_node):\n",
    "    if used_cycle_id == len(cycle)-1:\n",
    "        return cost_matrix[cycle[used_cycle_id-1], unused_node] + cost_matrix[unused_node, cycle[0]] - cost_matrix[cycle[used_cycle_id-1], cycle[used_cycle_id]] - cost_matrix[cycle[used_cycle_id], cycle[0]]\n",
    "    return cost_matrix[cycle[used_cycle_id-1], unused_node] + cost_matrix[unused_node, cycle[used_cycle_id+1]] - cost_matrix[cycle[used_cycle_id-1], cycle[used_cycle_id]] - cost_matrix[cycle[used_cycle_id], cycle[used_cycle_id+1]]"
   ]
  },
  {
   "cell_type": "code",
   "execution_count": 15,
   "metadata": {},
   "outputs": [],
   "source": [
    "def intra_two_nodes_exchange_delta(cycle, cost_matrix, node1, node2, pri = False):\n",
    "    # print(node1, node2)\n",
    "    if node1 == len(cycle)-1:\n",
    "        node1plus = 0\n",
    "    else:\n",
    "        node1plus = node1 + 1\n",
    "    \n",
    "    if node2 == len(cycle)-1:\n",
    "        node2plus = 0\n",
    "    else:\n",
    "        node2plus = node2 + 1\n",
    "\n",
    "    if abs(node1-node2) == 1:\n",
    "        if node1 > node2:\n",
    "            node1, node2 = node2, node1\n",
    "            node1plus, node2plus = node2plus, node1plus\n",
    "        return cost_matrix[cycle[node1-1], cycle[node2]] + cost_matrix[cycle[node2], cycle[node1]] + cost_matrix[cycle[node1], cycle[node2plus]] - cost_matrix[cycle[node1-1], cycle[node1]] - cost_matrix[cycle[node1], cycle[node2]] - cost_matrix[cycle[node2], cycle[node2plus]]\n",
    "    if abs(node1-node2) == len(cycle)-1:\n",
    "        if node1 < node2:\n",
    "            node1, node2 = node2, node1\n",
    "            node1plus, node2plus = node2plus, node1plus\n",
    "        return cost_matrix[cycle[node1-1], cycle[node2]] + cost_matrix[cycle[node2], cycle[node1]] + cost_matrix[cycle[node1], cycle[node2plus]] - cost_matrix[cycle[node1-1], cycle[node1]] - cost_matrix[cycle[node1], cycle[node2]] - cost_matrix[cycle[node2], cycle[node2plus]]\n",
    "\n",
    "    return cost_matrix[cycle[node1-1], cycle[node2]] + cost_matrix[cycle[node2], cycle[node1plus]] + cost_matrix[cycle[node2-1], cycle[node1]] + cost_matrix[cycle[node1], cycle[node2plus]] - cost_matrix[cycle[node1-1], cycle[node1]] - cost_matrix[cycle[node1], cycle[node1plus]] - cost_matrix[cycle[node2-1], cycle[node2]] - cost_matrix[cycle[node2], cycle[node2plus]]"
   ]
  },
  {
   "cell_type": "code",
   "execution_count": 16,
   "metadata": {},
   "outputs": [],
   "source": [
    "def intra_two_edges_exchange_delta(cycle, dist_matrix, node1, node2):\n",
    "    if node1 == len(cycle)-1 or node2 == len(cycle)-1:\n",
    "        return 99999\n",
    "    #print(cost_matrix[cycle[node1], cycle[node2]], cost_matrix[cycle[node1+1], cycle[node2+1]], cost_matrix[cycle[node1], cycle[node1+1]], cost_matrix[cycle[node2], cycle[node2+1]])\n",
    "    return dist_matrix[cycle[node1], cycle[node2]] + dist_matrix[cycle[node1+1], cycle[node2+1]] - dist_matrix[cycle[node1], cycle[node1+1]] - dist_matrix[cycle[node2], cycle[node2+1]]\n"
   ]
  },
  {
   "cell_type": "code",
   "execution_count": 55,
   "metadata": {},
   "outputs": [],
   "source": [
    "jit()\n",
    "def steepest_local_search(cost_matrix, dist_matrix, inter = True, initial_greedy = False, starting_node = None):\n",
    "    if initial_greedy:\n",
    "        if starting_node:\n",
    "            cycle = greedy_cycle(cost_matrix, starting_node)\n",
    "        else:\n",
    "            cycle = greedy_cycle(cost_matrix, random.randint(0, len(cost_matrix)-1))\n",
    "    else:\n",
    "        cycle = random_solution(cost_matrix)\n",
    "    unused_nodes = set(list(range(0,len(cost_matrix))))\n",
    "    for node in cycle:\n",
    "        unused_nodes.remove(node)\n",
    "\n",
    "    all_combinations = list(combinations(list(range(0, 100)), 2))\n",
    "\n",
    "    while(True):\n",
    "        best_delta, swap_node_a, swap_node_b, best_type = 0, None, None, None\n",
    "        if inter:\n",
    "            for used_cycle_id in range(len(cycle)):\n",
    "                for unused_node in unused_nodes:\n",
    "                    delta = inter_exchange_delta(cycle, cost_matrix, used_cycle_id, unused_node)\n",
    "                    if delta < best_delta:\n",
    "                        best_delta, swap_node_a, swap_node_b, best_type = delta, used_cycle_id, unused_node, 'inter_exchange'\n",
    "        else:\n",
    "            for x, y in all_combinations:\n",
    "                delta = intra_two_nodes_exchange_delta(cycle, cost_matrix, x, y)\n",
    "                if delta < best_delta:\n",
    "                    best_delta, swap_node_a, swap_node_b, best_type = delta, x, y, 'intra_two_nodes_exchange'\n",
    "            for x, y in all_combinations:\n",
    "                delta = intra_two_edges_exchange_delta(cycle, dist_matrix, x, y)\n",
    "                if delta < best_delta:\n",
    "                    best_delta, swap_node_a, swap_node_b, best_type = delta, x, y, 'intra_two_edges_exchange'\n",
    "\n",
    "        if best_type is not None:\n",
    "            if best_type == 'inter_exchange':\n",
    "                unused_nodes.add(cycle[swap_node_a])\n",
    "                unused_nodes.remove(swap_node_b)\n",
    "                cycle[swap_node_a] = swap_node_b\n",
    "            elif best_type == 'intra_two_nodes_exchange':\n",
    "                cycle[swap_node_a], cycle[swap_node_b] = cycle[swap_node_b], cycle[swap_node_a]\n",
    "            elif best_type == 'intra_two_edges_exchange':\n",
    "                cycle[swap_node_a+1], cycle[swap_node_b] = cycle[swap_node_b], cycle[swap_node_a+1]\n",
    "                cycle[swap_node_a+2:swap_node_b] = cycle[swap_node_a+2:swap_node_b][::-1]\n",
    "        else:\n",
    "            break\n",
    "    return cycle"
   ]
  },
  {
   "cell_type": "code",
   "execution_count": 56,
   "metadata": {},
   "outputs": [],
   "source": [
    "jit()\n",
    "def greedy_local_search(cost_matrix, dist_matrix, inter = True, initial_greedy = False, starting_node = None):\n",
    "    if initial_greedy:\n",
    "        if starting_node:\n",
    "            cycle = greedy_cycle(cost_matrix, starting_node)\n",
    "        else:\n",
    "            cycle = greedy_cycle(cost_matrix, random.randint(0, len(cost_matrix)-1))\n",
    "    else:\n",
    "        cycle = random_solution(cost_matrix)\n",
    "    unused_nodes = set(list(range(0,len(cost_matrix))))\n",
    "    for node in cycle:\n",
    "        unused_nodes.remove(node)\n",
    "\n",
    "    if inter:\n",
    "        neighbourhood = [(x, y) for x in range(len(cycle)) for y in unused_nodes]\n",
    "    else:\n",
    "        neighbourhood = [(x, y, 'intra_two_nodes_exchange') for x, y in combinations(list(range(0, 100)), 2)]\n",
    "        neighbourhood += [(x, y, 'intra_two_edges_exchange') for x, y in combinations(list(range(0, 100)), 2)]\n",
    "\n",
    "    while(True):\n",
    "        best_delta, swap_node_a, swap_node_b, best_type = 0, None, None, None\n",
    "        random.shuffle(neighbourhood)\n",
    "        if inter:\n",
    "            for used_cycle_id, unused_node in neighbourhood:\n",
    "                delta = inter_exchange_delta(cycle, cost_matrix, used_cycle_id, unused_node)\n",
    "                if delta < best_delta:\n",
    "                    best_delta, swap_node_a, swap_node_b, best_type = delta, used_cycle_id, unused_node, 'inter_exchange'\n",
    "                    break\n",
    "        else:\n",
    "            for x, y, z in neighbourhood:\n",
    "                if z == 'intra_two_nodes_exchange':\n",
    "                    delta = intra_two_nodes_exchange_delta(cycle, cost_matrix, x, y)\n",
    "                    if delta < best_delta:\n",
    "                        best_delta, swap_node_a, swap_node_b, best_type = delta, x, y, 'intra_two_nodes_exchange'\n",
    "                        break\n",
    "                elif z == 'intra_two_edges_exchange':\n",
    "                    delta = intra_two_edges_exchange_delta(cycle, dist_matrix, x, y)\n",
    "                    if delta < best_delta:\n",
    "                        best_delta, swap_node_a, swap_node_b, best_type = delta, x, y, 'intra_two_edges_exchange'\n",
    "                        break\n",
    "\n",
    "        if best_type is not None:\n",
    "            if best_type == 'inter_exchange':\n",
    "                unused_nodes.add(cycle[swap_node_a])\n",
    "                unused_nodes.remove(swap_node_b)\n",
    "                cycle[swap_node_a] = swap_node_b\n",
    "                neighbourhood = [(x, y) for x in range(len(cycle)) for y in unused_nodes]\n",
    "            elif best_type == 'intra_two_nodes_exchange':\n",
    "                cycle[swap_node_a], cycle[swap_node_b] = cycle[swap_node_b], cycle[swap_node_a]\n",
    "            elif best_type == 'intra_two_edges_exchange':\n",
    "                cycle[swap_node_a+1], cycle[swap_node_b] = cycle[swap_node_b], cycle[swap_node_a+1]\n",
    "                cycle[swap_node_a+2:swap_node_b] = cycle[swap_node_a+2:swap_node_b][::-1]\n",
    "        else:\n",
    "            break\n",
    "    return cycle"
   ]
  },
  {
   "cell_type": "code",
   "execution_count": 57,
   "metadata": {},
   "outputs": [
    {
     "data": {
      "text/plain": [
       "array([128, 186,  72,  80,   8,  48,  26, 101, 167,  45,  21, 194, 157,\n",
       "        76, 145,  91,  69,  86,  43, 178, 147,  59,  27,  20,  64,  71,\n",
       "       163, 180,  32,  79, 133,  81, 102, 141,   6, 112,  51, 153,  88,\n",
       "        55, 195,  62, 154,  87, 144, 161, 164,  96, 185, 132,  22, 117,\n",
       "       108,  53, 159, 143,  19,  50, 175, 114,  75, 119, 189, 121, 149,\n",
       "       115,  35,   0, 113, 181,  74, 171,  98,  73,  31,  94,  12,  66,\n",
       "        68, 190,  24, 156, 172, 127,   4, 177,   1, 109, 134, 135,  95,\n",
       "       169, 139, 130, 152,  11, 199, 192,  77,  36])"
      ]
     },
     "execution_count": 57,
     "metadata": {},
     "output_type": "execute_result"
    }
   ],
   "source": [
    "steepest_local_search(cost_matrix_A, dist_matrix_A, inter = True, initial_greedy = False)\n",
    "greedy_local_search(cost_matrix_A, dist_matrix_A, inter = True, initial_greedy = False)"
   ]
  },
  {
   "cell_type": "markdown",
   "metadata": {},
   "source": [
    "Tests"
   ]
  },
  {
   "cell_type": "code",
   "execution_count": 20,
   "metadata": {},
   "outputs": [],
   "source": [
    "def present_results(min, max, average, time):\n",
    "    print(\"{: >10} {: >10} {: >10} {: >10}\".format('MIN', 'MAX', 'AVG', 'TIME'))\n",
    "    print(\"{: >10} {: >10} {: >10} {: >10}\".format(min, max, average, time))\n",
    "    print()"
   ]
  },
  {
   "cell_type": "code",
   "execution_count": 54,
   "metadata": {},
   "outputs": [],
   "source": [
    "# local_search(cost_matrix, inter = True, initial_greedy = False, starting_node = None)\n",
    "def test_solution(local_search, cost_matrix, dist_matrix, inter, initial_greedy):\n",
    "    start = time.time()\n",
    "    costs = []\n",
    "    for i in range(len(cost_matrix)):\n",
    "        cycle = local_search(cost_matrix, dist_matrix, inter, initial_greedy, i)\n",
    "        total_cost = calculate_performance(cycle, cost_matrix)\n",
    "        costs.append(total_cost)\n",
    "    costs = np.array(costs)\n",
    "    return costs.min(), costs.max(), costs.mean(), time.time() - start"
   ]
  },
  {
   "cell_type": "markdown",
   "metadata": {},
   "source": [
    "local search | neighborhood | starting solutions"
   ]
  },
  {
   "cell_type": "code",
   "execution_count": 59,
   "metadata": {},
   "outputs": [
    {
     "name": "stdout",
     "output_type": "stream",
     "text": [
      "DATASET C\n",
      "STEEPEST | INTER | GREEDY\n",
      "       MIN        MAX        AVG       TIME\n",
      "     53226      58806    55914.9 5.875683307647705\n",
      "\n",
      "STEEPEST | INTER | RANDOM\n",
      "       MIN        MAX        AVG       TIME\n",
      "     67412      87349  77047.685 263.54118633270264\n",
      "\n",
      "STEEPEST | INTRA | GREEDY\n",
      "       MIN        MAX        AVG       TIME\n",
      "     53080      58611   55391.54 39.83351492881775\n",
      "\n",
      "STEEPEST | INTRA | RANDOM\n",
      "       MIN        MAX        AVG       TIME\n",
      "     69568      80370   74423.61 430.69493412971497\n",
      "\n",
      "GREEDY | INTER | GREEDY\n",
      "       MIN        MAX        AVG       TIME\n",
      "     52956      58937   55909.44 8.243127822875977\n",
      "\n",
      "GREEDY | INTER | RANDOM\n",
      "       MIN        MAX        AVG       TIME\n",
      "     65079      84722  73641.395 383.6931369304657\n",
      "\n",
      "GREEDY | INTRA | GREEDY\n",
      "       MIN        MAX        AVG       TIME\n",
      "     53080      58611   55415.78 23.01422429084778\n",
      "\n",
      "GREEDY | INTRA | RANDOM\n",
      "       MIN        MAX        AVG       TIME\n",
      "     68635      80714  74783.725 322.87251496315\n",
      "\n",
      "===================================\n",
      "DATASET D\n",
      "STEEPEST | INTER | GREEDY\n",
      "       MIN        MAX        AVG       TIME\n",
      "     50163      60964   54960.52 4.069979190826416\n",
      "\n",
      "STEEPEST | INTER | RANDOM\n",
      "       MIN        MAX        AVG       TIME\n",
      "     67394      88747   76203.77 257.9351761341095\n",
      "\n",
      "STEEPEST | INTRA | GREEDY\n",
      "       MIN        MAX        AVG       TIME\n",
      "     49947      60140   54316.79 45.583552837371826\n",
      "\n",
      "STEEPEST | INTRA | RANDOM\n",
      "       MIN        MAX        AVG       TIME\n",
      "     66262      77983   72080.21 454.7420392036438\n",
      "\n",
      "GREEDY | INTER | GREEDY\n",
      "       MIN        MAX        AVG       TIME\n",
      "     50260      60964   54958.97 6.119673013687134\n",
      "\n",
      "GREEDY | INTER | RANDOM\n",
      "       MIN        MAX        AVG       TIME\n",
      "     61381      79931  71521.205 393.4009253978729\n",
      "\n",
      "GREEDY | INTRA | GREEDY\n",
      "       MIN        MAX        AVG       TIME\n",
      "     50031      60172   54326.99 21.42914390563965\n",
      "\n",
      "GREEDY | INTRA | RANDOM\n",
      "       MIN        MAX        AVG       TIME\n",
      "     66550      79488  72948.135 283.87292647361755\n",
      "\n",
      "===================================\n"
     ]
    }
   ],
   "source": [
    "for i in range(2,4):\n",
    "    if i == 0:\n",
    "        cost_matrix = cost_matrix_A\n",
    "        dist_matrix = dist_matrix_A\n",
    "        print('DATASET A')\n",
    "    elif i == 1:\n",
    "        cost_matrix = cost_matrix_B\n",
    "        dist_matrix = dist_matrix_B\n",
    "        print('DATASET B')\n",
    "    elif i == 2:\n",
    "        cost_matrix = cost_matrix_C\n",
    "        dist_matrix = dist_matrix_C\n",
    "        print('DATASET C')\n",
    "    elif i == 3:\n",
    "        cost_matrix = cost_matrix_D\n",
    "        dist_matrix = dist_matrix_D\n",
    "        print('DATASET D')\n",
    "\n",
    "    print('STEEPEST | INTER | GREEDY')\n",
    "    present_results(*test_solution(steepest_local_search, cost_matrix, dist_matrix, True, True))\n",
    "    print('STEEPEST | INTER | RANDOM')\n",
    "    present_results(*test_solution(steepest_local_search, cost_matrix, dist_matrix, True, False))\n",
    "    print('STEEPEST | INTRA | GREEDY')\n",
    "    present_results(*test_solution(steepest_local_search, cost_matrix, dist_matrix, False, True))\n",
    "    print('STEEPEST | INTRA | RANDOM')\n",
    "    present_results(*test_solution(steepest_local_search, cost_matrix, dist_matrix, False, False))\n",
    "    print('GREEDY | INTER | GREEDY')\n",
    "    present_results(*test_solution(greedy_local_search, cost_matrix, dist_matrix, True, True))\n",
    "    print('GREEDY | INTER | RANDOM')\n",
    "    present_results(*test_solution(greedy_local_search, cost_matrix, dist_matrix, True, False))\n",
    "    print('GREEDY | INTRA | GREEDY')\n",
    "    present_results(*test_solution(greedy_local_search, cost_matrix, dist_matrix, False, True))\n",
    "    print('GREEDY | INTRA | RANDOM')\n",
    "    present_results(*test_solution(greedy_local_search, cost_matrix, dist_matrix, False, False))\n",
    "    print('===================================')"
   ]
  }
 ],
 "metadata": {
  "kernelspec": {
   "display_name": "Python 3.8.10 64-bit",
   "language": "python",
   "name": "python3"
  },
  "language_info": {
   "codemirror_mode": {
    "name": "ipython",
    "version": 3
   },
   "file_extension": ".py",
   "mimetype": "text/x-python",
   "name": "python",
   "nbconvert_exporter": "python",
   "pygments_lexer": "ipython3",
   "version": "3.8.10"
  },
  "orig_nbformat": 4,
  "vscode": {
   "interpreter": {
    "hash": "916dbcbb3f70747c44a77c7bcd40155683ae19c65e1c03b4aa3499c5328201f1"
   }
  }
 },
 "nbformat": 4,
 "nbformat_minor": 2
}

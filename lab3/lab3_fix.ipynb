{
 "cells": [
  {
   "cell_type": "code",
   "execution_count": 20,
   "metadata": {},
   "outputs": [],
   "source": [
    "import numpy as np\n",
    "import pandas as pd\n",
    "import random\n",
    "from matplotlib import pyplot as plt\n",
    "from numba import jit\n",
    "from tqdm import tqdm\n",
    "from itertools import combinations, permutations\n",
    "import time"
   ]
  },
  {
   "cell_type": "code",
   "execution_count": 21,
   "metadata": {},
   "outputs": [],
   "source": [
    "data_A = np.loadtxt('../data/TSPA.csv', delimiter=';').astype(np.int64)\n",
    "data_B = np.loadtxt('../data/TSPB.csv', delimiter=';').astype(np.int64)\n",
    "data_C = np.loadtxt('../data/TSPC.csv', delimiter=';').astype(np.int64)\n",
    "data_D = np.loadtxt('../data/TSPD.csv', delimiter=';').astype(np.int64)"
   ]
  },
  {
   "cell_type": "code",
   "execution_count": 22,
   "metadata": {},
   "outputs": [],
   "source": [
    "def create_cost_matrix(data):\n",
    "    x = data[:, :1]\n",
    "    y = data[:, 1:2]\n",
    "    cost = data[:, 2:3]\n",
    "    return (((x - x.reshape(1, -1))**2 + (y - y.reshape(1, -1))**2) ** (1/2) + cost.reshape(1, -1)).round().astype(np.int64)\n",
    "\n",
    "def create_dist_matrix(data):\n",
    "    x = data[:, :1]\n",
    "    y = data[:, 1:2]\n",
    "    #cost = data[:, 2:3]\n",
    "    return (((x - x.reshape(1, -1))**2 + (y - y.reshape(1, -1))**2) ** (1/2)).round().astype(np.int64)"
   ]
  },
  {
   "cell_type": "code",
   "execution_count": 23,
   "metadata": {},
   "outputs": [],
   "source": [
    "cost_matrix_A = create_cost_matrix(data_A)"
   ]
  },
  {
   "cell_type": "code",
   "execution_count": 24,
   "metadata": {},
   "outputs": [
    {
     "data": {
      "text/plain": [
       "array([[  84, 2032, 2098, ..., 4159, 3783, 1514],\n",
       "       [1633,  483, 2398, ..., 3349, 2266,  817],\n",
       "       [ 720, 1419, 1462, ..., 3640, 3149,  964],\n",
       "       ...,\n",
       "       [2782, 2371, 3641, ..., 1461, 2908, 2554],\n",
       "       [2558, 1440, 3302, ..., 3060, 1309, 1773],\n",
       "       [1234,  936, 2062, ..., 3651, 2718,  364]], dtype=int64)"
      ]
     },
     "execution_count": 24,
     "metadata": {},
     "output_type": "execute_result"
    }
   ],
   "source": [
    "cost_matrix_A"
   ]
  },
  {
   "cell_type": "code",
   "execution_count": 25,
   "metadata": {},
   "outputs": [],
   "source": [
    "cost_matrix_B = create_cost_matrix(data_B)"
   ]
  },
  {
   "cell_type": "code",
   "execution_count": 26,
   "metadata": {},
   "outputs": [],
   "source": [
    "cost_matrix_C = create_cost_matrix(data_C)"
   ]
  },
  {
   "cell_type": "code",
   "execution_count": 27,
   "metadata": {},
   "outputs": [],
   "source": [
    "cost_matrix_D = create_cost_matrix(data_D)"
   ]
  },
  {
   "cell_type": "code",
   "execution_count": 28,
   "metadata": {},
   "outputs": [],
   "source": [
    "dist_matrix_A = create_dist_matrix(data_A)\n",
    "dist_matrix_B = create_dist_matrix(data_B)\n",
    "dist_matrix_C = create_dist_matrix(data_C)\n",
    "dist_matrix_D = create_dist_matrix(data_D)"
   ]
  },
  {
   "cell_type": "code",
   "execution_count": 29,
   "metadata": {},
   "outputs": [],
   "source": [
    "def plot(data, solution):\n",
    "    data_ordered = np.array([data[i] for i in solution])\n",
    "    all_data = np.array([data[i] for i in range(200)])\n",
    "\n",
    "    plt.figure(figsize=(10, 10), dpi=80)\n",
    "\n",
    "    plt.scatter(data_ordered[:,0], data_ordered[:,1], s=data_ordered[:,2]/data_ordered[:,2].max()*200, c='b')\n",
    "    plt.scatter(all_data[:,0], all_data[:,1], s=all_data[:,2]/all_data[:,2].max()*200, c='b')\n",
    "    plt.plot(data_ordered[:,0], data_ordered[:,1], 'y-')\n",
    "    plt.plot([data_ordered[0,0], data_ordered[-1,0]], [data_ordered[0,1], data_ordered[-1,1]], 'y-')\n",
    "    plt.show()"
   ]
  },
  {
   "cell_type": "code",
   "execution_count": 30,
   "metadata": {},
   "outputs": [],
   "source": [
    "def calculate_performance(cycle, cost_matrix):\n",
    "    total_sum = 0\n",
    "    for i in range(len(cycle)-1):\n",
    "        total_sum += cost_matrix[cycle[i], cycle[i+1]]\n",
    "    total_sum += cost_matrix[cycle[-1], cycle[0]]\n",
    "    return total_sum"
   ]
  },
  {
   "cell_type": "code",
   "execution_count": 31,
   "metadata": {},
   "outputs": [
    {
     "name": "stdout",
     "output_type": "stream",
     "text": [
      "[188  73  29  24  21 194 122  61 148 111 112  57  75 117 184 177 198  99\n",
      "  71  95 147  85  44  72  17 143 195  38 186 157  91  59 189  87  74 161\n",
      "   1 175   9   0  97  48  13  84 109 167 164  65 144  53 106  14  89  98\n",
      " 197   7  55  62  63  15 182  28  33 142  30 166  41  77 129  81 118 113\n",
      "  68  11 135 124  58  96  20 151 132 140 131  76   5  31  26  49 130   2\n",
      " 103 190  19 181  27 119 125 136 183 115]\n"
     ]
    },
    {
     "name": "stderr",
     "output_type": "stream",
     "text": [
      "C:\\Users\\hubra\\AppData\\Local\\Temp\\ipykernel_8412\\3945026401.py:1: NumbaWarning: \u001b[1m\n",
      "Compilation is falling back to object mode WITH looplifting enabled because Function \"random_solution\" failed type inference due to: \u001b[1m\u001b[1m\u001b[1mNo implementation of function Function(<bound method Random.shuffle of <random.Random object at 0x000001A54B4F5400>>) found for signature:\n",
      " \n",
      " >>> shuffle(list(int64)<iv=None>)\n",
      " \n",
      "There are 2 candidate implementations:\n",
      "\u001b[1m    - Of which 2 did not match due to:\n",
      "    Overload in function 'shuffle_impl': File: numba\\cpython\\randomimpl.py: Line 1230.\n",
      "      With argument(s): '(list(int64)<iv=None>)':\u001b[0m\n",
      "\u001b[1m     Rejected as the implementation raised a specific error:\n",
      "       TypeError: The argument to shuffle() should be a buffer type\u001b[0m\n",
      "  raised from C:\\Users\\hubra\\AppData\\Local\\Packages\\PythonSoftwareFoundation.Python.3.10_qbz5n2kfra8p0\\LocalCache\\local-packages\\Python310\\site-packages\\numba\\cpython\\randomimpl.py:1206\n",
      "\u001b[0m\n",
      "\u001b[0m\u001b[1mDuring: resolving callee type: Function(<bound method Random.shuffle of <random.Random object at 0x000001A54B4F5400>>)\u001b[0m\n",
      "\u001b[0m\u001b[1mDuring: typing of call at C:\\Users\\hubra\\AppData\\Local\\Temp\\ipykernel_8412\\3945026401.py (4)\n",
      "\u001b[0m\n",
      "\u001b[1m\n",
      "File \"..\\..\\..\\AppData\\Local\\Temp\\ipykernel_8412\\3945026401.py\", line 4:\u001b[0m\n",
      "\u001b[1m<source missing, REPL/exec in use?>\u001b[0m\n",
      "\u001b[0m\n",
      "  @jit()\n",
      "C:\\Users\\hubra\\AppData\\Local\\Packages\\PythonSoftwareFoundation.Python.3.10_qbz5n2kfra8p0\\LocalCache\\local-packages\\Python310\\site-packages\\numba\\core\\object_mode_passes.py:151: NumbaWarning: \u001b[1mFunction \"random_solution\" was compiled in object mode without forceobj=True.\n",
      "\u001b[1m\n",
      "File \"..\\..\\..\\AppData\\Local\\Temp\\ipykernel_8412\\3945026401.py\", line 1:\u001b[0m\n",
      "\u001b[1m<source missing, REPL/exec in use?>\u001b[0m\n",
      "\u001b[0m\n",
      "  warnings.warn(errors.NumbaWarning(warn_msg,\n",
      "C:\\Users\\hubra\\AppData\\Local\\Packages\\PythonSoftwareFoundation.Python.3.10_qbz5n2kfra8p0\\LocalCache\\local-packages\\Python310\\site-packages\\numba\\core\\object_mode_passes.py:161: NumbaDeprecationWarning: \u001b[1m\n",
      "Fall-back from the nopython compilation path to the object mode compilation path has been detected, this is deprecated behaviour.\n",
      "\n",
      "For more information visit https://numba.readthedocs.io/en/stable/reference/deprecation.html#deprecation-of-object-mode-fall-back-behaviour-when-using-jit\n",
      "\u001b[1m\n",
      "File \"..\\..\\..\\AppData\\Local\\Temp\\ipykernel_8412\\3945026401.py\", line 1:\u001b[0m\n",
      "\u001b[1m<source missing, REPL/exec in use?>\u001b[0m\n",
      "\u001b[0m\n",
      "  warnings.warn(errors.NumbaDeprecationWarning(msg,\n"
     ]
    }
   ],
   "source": [
    "@jit()\n",
    "def random_solution(cost_matrix, limit=100):\n",
    "    random_solution_list = list(range(0,len(cost_matrix)))\n",
    "    random.shuffle(random_solution_list)\n",
    "    return np.array(random_solution_list)[:limit]\n",
    "\n",
    "solution = random_solution(cost_matrix_A, 100)\n",
    "print(solution)"
   ]
  },
  {
   "cell_type": "code",
   "execution_count": 32,
   "metadata": {},
   "outputs": [],
   "source": [
    "@jit()\n",
    "def greedy_cycle(cost_matrix, current_id, limit=100):\n",
    "    all_ids = set(list(range(0,len(cost_matrix))))\n",
    "    all_ids.remove(current_id)\n",
    "    solution = [current_id]\n",
    "    \n",
    "    for _ in range(1):\n",
    "        min_val = 99999\n",
    "        min_id = -1\n",
    "        for next_id in all_ids:\n",
    "            if cost_matrix[current_id][next_id] < min_val:\n",
    "                min_val = cost_matrix[current_id][next_id]\n",
    "                min_id = next_id\n",
    "        solution.append(min_id)\n",
    "        all_ids.remove(min_id)\n",
    "        current_id = min_id\n",
    "    \n",
    "    while len(solution) < limit:\n",
    "        min_delta = 99999\n",
    "        min_id = -1\n",
    "        insert_id = -1\n",
    "        for i in range(len(solution)-1):\n",
    "            for next_id in all_ids:\n",
    "                delta = cost_matrix[solution[i]][next_id] + cost_matrix[next_id][solution[i+1]] - cost_matrix[solution[i]][solution[i+1]]\n",
    "                if delta < min_delta:\n",
    "                    min_delta = delta\n",
    "                    min_id = next_id\n",
    "                    insert_id = i\n",
    "        for next_id in all_ids:\n",
    "            delta = cost_matrix[solution[-1]][next_id] + cost_matrix[next_id][solution[0]] - cost_matrix[solution[-1]][solution[0]]\n",
    "            if delta < min_delta:\n",
    "                min_delta = delta\n",
    "                min_id = next_id\n",
    "                insert_id = i\n",
    "        solution.insert(insert_id+1, min_id)\n",
    "        all_ids.remove(min_id)\n",
    "\n",
    "    return np.array(solution)"
   ]
  },
  {
   "cell_type": "code",
   "execution_count": 33,
   "metadata": {},
   "outputs": [],
   "source": [
    "# swap node in cycle and unused node\n",
    "def inter_exchange_delta(cycle, cost_matrix, used_cycle_id, unused_node):\n",
    "    if used_cycle_id == len(cycle)-1:\n",
    "        return cost_matrix[cycle[used_cycle_id-1], unused_node] + cost_matrix[unused_node, cycle[0]] - cost_matrix[cycle[used_cycle_id-1], cycle[used_cycle_id]] - cost_matrix[cycle[used_cycle_id], cycle[0]]\n",
    "    return cost_matrix[cycle[used_cycle_id-1], unused_node] + cost_matrix[unused_node, cycle[used_cycle_id+1]] - cost_matrix[cycle[used_cycle_id-1], cycle[used_cycle_id]] - cost_matrix[cycle[used_cycle_id], cycle[used_cycle_id+1]]"
   ]
  },
  {
   "cell_type": "code",
   "execution_count": 34,
   "metadata": {},
   "outputs": [],
   "source": [
    "def intra_two_nodes_exchange_delta(cycle, cost_matrix, node1, node2, pri = False):\n",
    "    # print(node1, node2)\n",
    "    if node1 == len(cycle)-1:\n",
    "        node1plus = 0\n",
    "    else:\n",
    "        node1plus = node1 + 1\n",
    "    \n",
    "    if node2 == len(cycle)-1:\n",
    "        node2plus = 0\n",
    "    else:\n",
    "        node2plus = node2 + 1\n",
    "\n",
    "    if abs(node1-node2) == 1:\n",
    "        if node1 > node2:\n",
    "            node1, node2 = node2, node1\n",
    "            node1plus, node2plus = node2plus, node1plus\n",
    "        return cost_matrix[cycle[node1-1], cycle[node2]] + cost_matrix[cycle[node2], cycle[node1]] + cost_matrix[cycle[node1], cycle[node2plus]] - cost_matrix[cycle[node1-1], cycle[node1]] - cost_matrix[cycle[node1], cycle[node2]] - cost_matrix[cycle[node2], cycle[node2plus]]\n",
    "    if abs(node1-node2) == len(cycle)-1:\n",
    "        if node1 < node2:\n",
    "            node1, node2 = node2, node1\n",
    "            node1plus, node2plus = node2plus, node1plus\n",
    "        return cost_matrix[cycle[node1-1], cycle[node2]] + cost_matrix[cycle[node2], cycle[node1]] + cost_matrix[cycle[node1], cycle[node2plus]] - cost_matrix[cycle[node1-1], cycle[node1]] - cost_matrix[cycle[node1], cycle[node2]] - cost_matrix[cycle[node2], cycle[node2plus]]\n",
    "\n",
    "    return cost_matrix[cycle[node1-1], cycle[node2]] + cost_matrix[cycle[node2], cycle[node1plus]] + cost_matrix[cycle[node2-1], cycle[node1]] + cost_matrix[cycle[node1], cycle[node2plus]] - cost_matrix[cycle[node1-1], cycle[node1]] - cost_matrix[cycle[node1], cycle[node1plus]] - cost_matrix[cycle[node2-1], cycle[node2]] - cost_matrix[cycle[node2], cycle[node2plus]]"
   ]
  },
  {
   "cell_type": "code",
   "execution_count": 35,
   "metadata": {},
   "outputs": [],
   "source": [
    "def intra_two_edges_exchange_delta(cycle, dist_matrix, node1, node2):\n",
    "    if node1 == len(cycle)-1 or node2 == len(cycle)-1:\n",
    "        return 99999\n",
    "    #print(cost_matrix[cycle[node1], cycle[node2]], cost_matrix[cycle[node1+1], cycle[node2+1]], cost_matrix[cycle[node1], cycle[node1+1]], cost_matrix[cycle[node2], cycle[node2+1]])\n",
    "    return dist_matrix[cycle[node1], cycle[node2]] + dist_matrix[cycle[node1+1], cycle[node2+1]] - dist_matrix[cycle[node1], cycle[node1+1]] - dist_matrix[cycle[node2], cycle[node2+1]]\n"
   ]
  },
  {
   "cell_type": "code",
   "execution_count": 36,
   "metadata": {},
   "outputs": [],
   "source": [
    "jit()\n",
    "def steepest_local_search(cost_matrix, dist_matrix, nodes_exchange = True, initial_greedy = False, starting_node = None):\n",
    "    if initial_greedy:\n",
    "        if starting_node:\n",
    "            cycle = greedy_cycle(cost_matrix, starting_node)\n",
    "        else:\n",
    "            cycle = greedy_cycle(cost_matrix, random.randint(0, len(cost_matrix)-1))\n",
    "    else:\n",
    "        cycle = random_solution(cost_matrix)\n",
    "    unused_nodes = set(list(range(0,len(cost_matrix))))\n",
    "    for node in cycle:\n",
    "        unused_nodes.remove(node)\n",
    "\n",
    "    all_combinations = list(combinations(list(range(0, 100)), 2))\n",
    "\n",
    "    while(True):\n",
    "        best_delta, swap_node_a, swap_node_b, best_type = 0, None, None, None\n",
    "        for used_cycle_id in range(len(cycle)):\n",
    "            for unused_node in unused_nodes:\n",
    "                delta = inter_exchange_delta(cycle, cost_matrix, used_cycle_id, unused_node)\n",
    "                if delta < best_delta:\n",
    "                    best_delta, swap_node_a, swap_node_b, best_type = delta, used_cycle_id, unused_node, 'inter_exchange'\n",
    "        if nodes_exchange:\n",
    "            for x, y in all_combinations:\n",
    "                delta = intra_two_nodes_exchange_delta(cycle, cost_matrix, x, y)\n",
    "                if delta < best_delta:\n",
    "                    best_delta, swap_node_a, swap_node_b, best_type = delta, x, y, 'intra_two_nodes_exchange'\n",
    "        else:\n",
    "            for x, y in all_combinations:\n",
    "                delta = intra_two_edges_exchange_delta(cycle, dist_matrix, x, y)\n",
    "                if delta < best_delta:\n",
    "                    best_delta, swap_node_a, swap_node_b, best_type = delta, x, y, 'intra_two_edges_exchange'\n",
    "\n",
    "        if best_type is not None:\n",
    "            if best_type == 'inter_exchange':\n",
    "                unused_nodes.add(cycle[swap_node_a])\n",
    "                unused_nodes.remove(swap_node_b)\n",
    "                cycle[swap_node_a] = swap_node_b\n",
    "            elif best_type == 'intra_two_nodes_exchange':\n",
    "                cycle[swap_node_a], cycle[swap_node_b] = cycle[swap_node_b], cycle[swap_node_a]\n",
    "            elif best_type == 'intra_two_edges_exchange':\n",
    "                cycle[swap_node_a+1], cycle[swap_node_b] = cycle[swap_node_b], cycle[swap_node_a+1]\n",
    "                cycle[swap_node_a+2:swap_node_b] = cycle[swap_node_a+2:swap_node_b][::-1]\n",
    "        else:\n",
    "            break\n",
    "    return cycle"
   ]
  },
  {
   "cell_type": "code",
   "execution_count": 37,
   "metadata": {},
   "outputs": [],
   "source": [
    "jit()\n",
    "def greedy_local_search(cost_matrix, dist_matrix, nodes_exchange = True, initial_greedy = False, starting_node = None):\n",
    "    if initial_greedy:\n",
    "        if starting_node:\n",
    "            cycle = greedy_cycle(cost_matrix, starting_node)\n",
    "        else:\n",
    "            cycle = greedy_cycle(cost_matrix, random.randint(0, len(cost_matrix)-1))\n",
    "    else:\n",
    "        cycle = random_solution(cost_matrix)\n",
    "    unused_nodes = set(list(range(0,len(cost_matrix))))\n",
    "    for node in cycle:\n",
    "        unused_nodes.remove(node)\n",
    "\n",
    "    #neighbourhood = [(x, y, 'inter') for x in range(len(cycle)) for y in unused_nodes]\n",
    "    #neighbourhood += [(x, y, 'intra') for x, y in combinations(list(range(0, 100)), 2)]\n",
    "\n",
    "    while(True):\n",
    "        best_delta, swap_node_a, swap_node_b, best_type = 0, None, None, None\n",
    "        neighbourhood = [(x, y, 'inter') for x in range(len(cycle)) for y in unused_nodes]\n",
    "        neighbourhood += [(x, y, 'intra') for x, y in combinations(list(range(0, 100)), 2)]\n",
    "        random.shuffle(neighbourhood)\n",
    "        if nodes_exchange:\n",
    "            for x, y, z in neighbourhood:\n",
    "                if z == 'inter':\n",
    "                    delta = inter_exchange_delta(cycle, cost_matrix, x, y)\n",
    "                    if delta < best_delta:\n",
    "                        best_delta, swap_node_a, swap_node_b, best_type = delta, x, y, 'inter_exchange'\n",
    "                        break\n",
    "                elif z == 'intra':\n",
    "                    delta = intra_two_nodes_exchange_delta(cycle, cost_matrix, x, y)\n",
    "                    if delta < best_delta:\n",
    "                        best_delta, swap_node_a, swap_node_b, best_type = delta, x, y, 'intra_two_nodes_exchange'\n",
    "                        break\n",
    "        else:\n",
    "            for x, y, z in neighbourhood:\n",
    "                if z == 'inter':\n",
    "                    delta = inter_exchange_delta(cycle, cost_matrix, x, y)\n",
    "                    if delta < best_delta:\n",
    "                        best_delta, swap_node_a, swap_node_b, best_type = delta, x, y, 'inter_exchange'\n",
    "                        break\n",
    "                elif z == 'intra':\n",
    "                    delta = intra_two_edges_exchange_delta(cycle, dist_matrix, x, y)\n",
    "                    if delta < best_delta:\n",
    "                        best_delta, swap_node_a, swap_node_b, best_type = delta, x, y, 'intra_two_edges_exchange'\n",
    "                        break\n",
    "\n",
    "        if best_type is not None:\n",
    "            if best_type == 'inter_exchange':\n",
    "                unused_nodes.add(cycle[swap_node_a])\n",
    "                unused_nodes.remove(swap_node_b)\n",
    "                cycle[swap_node_a] = swap_node_b\n",
    "                #neighbourhood = [(x, y) for x in range(len(cycle)) for y in unused_nodes]\n",
    "            elif best_type == 'intra_two_nodes_exchange':\n",
    "                cycle[swap_node_a], cycle[swap_node_b] = cycle[swap_node_b], cycle[swap_node_a]\n",
    "            elif best_type == 'intra_two_edges_exchange':\n",
    "                cycle[swap_node_a+1], cycle[swap_node_b] = cycle[swap_node_b], cycle[swap_node_a+1]\n",
    "                cycle[swap_node_a+2:swap_node_b] = cycle[swap_node_a+2:swap_node_b][::-1]\n",
    "        else:\n",
    "            break\n",
    "    return cycle"
   ]
  },
  {
   "cell_type": "code",
   "execution_count": 38,
   "metadata": {},
   "outputs": [],
   "source": [
    "#steepest_local_search(cost_matrix_A, dist_matrix_A, inter = True, initial_greedy = False)\n",
    "#greedy_local_search(cost_matrix_A, dist_matrix_A, inter = True, initial_greedy = False)"
   ]
  },
  {
   "cell_type": "markdown",
   "metadata": {},
   "source": [
    "Tests"
   ]
  },
  {
   "cell_type": "code",
   "execution_count": 39,
   "metadata": {},
   "outputs": [
    {
     "name": "stderr",
     "output_type": "stream",
     "text": [
      "C:\\Users\\hubra\\AppData\\Local\\Temp\\ipykernel_8412\\3945026401.py:1: NumbaWarning: \u001b[1m\n",
      "Compilation is falling back to object mode WITH looplifting enabled because Function \"random_solution\" failed type inference due to: \u001b[1m\u001b[1m\u001b[1mNo implementation of function Function(<bound method Random.shuffle of <random.Random object at 0x000001A54B4F5400>>) found for signature:\n",
      " \n",
      " >>> shuffle(list(int64)<iv=None>)\n",
      " \n",
      "There are 2 candidate implementations:\n",
      "\u001b[1m      - Of which 2 did not match due to:\n",
      "      Overload in function 'shuffle_impl': File: numba\\cpython\\randomimpl.py: Line 1230.\n",
      "        With argument(s): '(list(int64)<iv=None>)':\u001b[0m\n",
      "\u001b[1m       Rejected as the implementation raised a specific error:\n",
      "         TypeError: The argument to shuffle() should be a buffer type\u001b[0m\n",
      "  raised from C:\\Users\\hubra\\AppData\\Local\\Packages\\PythonSoftwareFoundation.Python.3.10_qbz5n2kfra8p0\\LocalCache\\local-packages\\Python310\\site-packages\\numba\\cpython\\randomimpl.py:1206\n",
      "\u001b[0m\n",
      "\u001b[0m\u001b[1mDuring: resolving callee type: Function(<bound method Random.shuffle of <random.Random object at 0x000001A54B4F5400>>)\u001b[0m\n",
      "\u001b[0m\u001b[1mDuring: typing of call at C:\\Users\\hubra\\AppData\\Local\\Temp\\ipykernel_8412\\3945026401.py (4)\n",
      "\u001b[0m\n",
      "\u001b[1m\n",
      "File \"..\\..\\..\\AppData\\Local\\Temp\\ipykernel_8412\\3945026401.py\", line 4:\u001b[0m\n",
      "\u001b[1m<source missing, REPL/exec in use?>\u001b[0m\n",
      "\u001b[0m\n",
      "  @jit()\n",
      "C:\\Users\\hubra\\AppData\\Local\\Packages\\PythonSoftwareFoundation.Python.3.10_qbz5n2kfra8p0\\LocalCache\\local-packages\\Python310\\site-packages\\numba\\core\\object_mode_passes.py:151: NumbaWarning: \u001b[1mFunction \"random_solution\" was compiled in object mode without forceobj=True.\n",
      "\u001b[1m\n",
      "File \"..\\..\\..\\AppData\\Local\\Temp\\ipykernel_8412\\3945026401.py\", line 1:\u001b[0m\n",
      "\u001b[1m<source missing, REPL/exec in use?>\u001b[0m\n",
      "\u001b[0m\n",
      "  warnings.warn(errors.NumbaWarning(warn_msg,\n",
      "C:\\Users\\hubra\\AppData\\Local\\Packages\\PythonSoftwareFoundation.Python.3.10_qbz5n2kfra8p0\\LocalCache\\local-packages\\Python310\\site-packages\\numba\\core\\object_mode_passes.py:161: NumbaDeprecationWarning: \u001b[1m\n",
      "Fall-back from the nopython compilation path to the object mode compilation path has been detected, this is deprecated behaviour.\n",
      "\n",
      "For more information visit https://numba.readthedocs.io/en/stable/reference/deprecation.html#deprecation-of-object-mode-fall-back-behaviour-when-using-jit\n",
      "\u001b[1m\n",
      "File \"..\\..\\..\\AppData\\Local\\Temp\\ipykernel_8412\\3945026401.py\", line 1:\u001b[0m\n",
      "\u001b[1m<source missing, REPL/exec in use?>\u001b[0m\n",
      "\u001b[0m\n",
      "  warnings.warn(errors.NumbaDeprecationWarning(msg,\n"
     ]
    },
    {
     "data": {
      "text/plain": [
       "52419"
      ]
     },
     "execution_count": 39,
     "metadata": {},
     "output_type": "execute_result"
    }
   ],
   "source": [
    "cyc = steepest_local_search(cost_matrix_C, dist_matrix_C, False, initial_greedy = False)\n",
    "calculate_performance(cyc, cost_matrix_C)"
   ]
  },
  {
   "cell_type": "code",
   "execution_count": 40,
   "metadata": {},
   "outputs": [],
   "source": [
    "def present_results(min, max, average, time):\n",
    "    print(\"{: >10} {: >10} {: >10} {: >10}\".format('MIN', 'MAX', 'AVG', 'TIME'))\n",
    "    print(\"{: >10} {: >10} {: >10} {: >10}\".format(min, max, average, time))\n",
    "    print()"
   ]
  },
  {
   "cell_type": "code",
   "execution_count": 41,
   "metadata": {},
   "outputs": [],
   "source": [
    "# local_search(cost_matrix, inter = True, initial_greedy = False, starting_node = None)\n",
    "def test_solution(local_search, cost_matrix, dist_matrix, inter, initial_greedy):\n",
    "    start = time.time()\n",
    "    costs = []\n",
    "    for i in range(len(cost_matrix)):\n",
    "        cycle = local_search(cost_matrix, dist_matrix, inter, initial_greedy, i)\n",
    "        total_cost = calculate_performance(cycle, cost_matrix)\n",
    "        costs.append(total_cost)\n",
    "    costs = np.array(costs)\n",
    "    return costs.min(), costs.max(), costs.mean(), time.time() - start"
   ]
  },
  {
   "cell_type": "markdown",
   "metadata": {},
   "source": [
    "local search | neighborhood | starting solutions"
   ]
  },
  {
   "cell_type": "code",
   "execution_count": 42,
   "metadata": {},
   "outputs": [
    {
     "name": "stdout",
     "output_type": "stream",
     "text": [
      "DATASET C\n",
      "STEEPEST | NODES | GREEDY\n",
      "       MIN        MAX        AVG       TIME\n",
      "     53080      58520   55471.88 39.320133686065674\n",
      "\n",
      "STEEPEST | NODES | RANDOM\n",
      "       MIN        MAX        AVG       TIME\n",
      "     58375      75319  65464.805 744.2845809459686\n",
      "\n",
      "STEEPEST | EDGES | GREEDY\n",
      "       MIN        MAX        AVG       TIME\n",
      "     52889      58513  55201.485 37.82859992980957\n",
      "\n",
      "STEEPEST | EDGES | RANDOM\n",
      "       MIN        MAX        AVG       TIME\n",
      "     49056      54507   51678.23 471.44153475761414\n",
      "\n",
      "GREEDY | NODES | GREEDY\n",
      "       MIN        MAX        AVG       TIME\n",
      "     53080      58520   55464.68 28.637354850769043\n",
      "\n",
      "GREEDY | NODES | RANDOM\n",
      "       MIN        MAX        AVG       TIME\n",
      "     58581      69919    63930.4 662.9003674983978\n",
      "\n",
      "GREEDY | EDGES | GREEDY\n",
      "       MIN        MAX        AVG       TIME\n",
      "     53079      58513  55215.395 32.189746618270874\n",
      "\n",
      "GREEDY | EDGES | RANDOM\n",
      "       MIN        MAX        AVG       TIME\n",
      "     49471      55058  51770.755 907.2033560276031\n",
      "\n",
      "===================================\n",
      "DATASET D\n",
      "STEEPEST | NODES | GREEDY\n",
      "       MIN        MAX        AVG       TIME\n",
      "     49787      60681  54357.715 85.22504138946533\n",
      "\n",
      "STEEPEST | NODES | RANDOM\n",
      "       MIN        MAX        AVG       TIME\n",
      "     57020      76548   64289.38 1332.1981978416443\n",
      "\n",
      "STEEPEST | EDGES | GREEDY\n",
      "       MIN        MAX        AVG       TIME\n",
      "     49602      60320   54110.46 75.6044065952301\n",
      "\n",
      "STEEPEST | EDGES | RANDOM\n",
      "       MIN        MAX        AVG       TIME\n",
      "     45761      52451  48420.755 880.998693227768\n",
      "\n",
      "GREEDY | NODES | GREEDY\n",
      "       MIN        MAX        AVG       TIME\n",
      "     49791      60681   54419.65 59.188549280166626\n",
      "\n",
      "GREEDY | NODES | RANDOM\n",
      "       MIN        MAX        AVG       TIME\n",
      "     53789      72909  62409.985 791.7490136623383\n",
      "\n",
      "GREEDY | EDGES | GREEDY\n",
      "       MIN        MAX        AVG       TIME\n",
      "     47531      60277   54179.15 34.12229061126709\n",
      "\n",
      "GREEDY | EDGES | RANDOM\n",
      "       MIN        MAX        AVG       TIME\n",
      "     45462      52177   48653.97 661.5534298419952\n",
      "\n",
      "===================================\n"
     ]
    }
   ],
   "source": [
    "for i in range(2,4):\n",
    "    if i == 0:\n",
    "        cost_matrix = cost_matrix_A\n",
    "        dist_matrix = dist_matrix_A\n",
    "        print('DATASET A')\n",
    "    elif i == 1:\n",
    "        cost_matrix = cost_matrix_B\n",
    "        dist_matrix = dist_matrix_B\n",
    "        print('DATASET B')\n",
    "    elif i == 2:\n",
    "        cost_matrix = cost_matrix_C\n",
    "        dist_matrix = dist_matrix_C\n",
    "        print('DATASET C')\n",
    "    elif i == 3:\n",
    "        cost_matrix = cost_matrix_D\n",
    "        dist_matrix = dist_matrix_D\n",
    "        print('DATASET D')\n",
    "\n",
    "    print('STEEPEST | NODES | GREEDY')\n",
    "    present_results(*test_solution(steepest_local_search, cost_matrix, dist_matrix, True, True))\n",
    "    print('STEEPEST | NODES | RANDOM')\n",
    "    present_results(*test_solution(steepest_local_search, cost_matrix, dist_matrix, True, False))\n",
    "    print('STEEPEST | EDGES | GREEDY')\n",
    "    present_results(*test_solution(steepest_local_search, cost_matrix, dist_matrix, False, True))\n",
    "    print('STEEPEST | EDGES | RANDOM')\n",
    "    present_results(*test_solution(steepest_local_search, cost_matrix, dist_matrix, False, False))\n",
    "    print('GREEDY | NODES | GREEDY')\n",
    "    present_results(*test_solution(greedy_local_search, cost_matrix, dist_matrix, True, True))\n",
    "    print('GREEDY | NODES | RANDOM')\n",
    "    present_results(*test_solution(greedy_local_search, cost_matrix, dist_matrix, True, False))\n",
    "    print('GREEDY | EDGES | GREEDY')\n",
    "    present_results(*test_solution(greedy_local_search, cost_matrix, dist_matrix, False, True))\n",
    "    print('GREEDY | EDGES | RANDOM')\n",
    "    present_results(*test_solution(greedy_local_search, cost_matrix, dist_matrix, False, False))\n",
    "    print('===================================')"
   ]
  }
 ],
 "metadata": {
  "kernelspec": {
   "display_name": "Python 3.10.8 64-bit (microsoft store)",
   "language": "python",
   "name": "python3"
  },
  "language_info": {
   "codemirror_mode": {
    "name": "ipython",
    "version": 3
   },
   "file_extension": ".py",
   "mimetype": "text/x-python",
   "name": "python",
   "nbconvert_exporter": "python",
   "pygments_lexer": "ipython3",
   "version": "3.10.8"
  },
  "orig_nbformat": 4,
  "vscode": {
   "interpreter": {
    "hash": "ee18e0e219778542b5e0b8fcb4f6314a8b6e3ce5195335662cf8a9606ca596cf"
   }
  }
 },
 "nbformat": 4,
 "nbformat_minor": 2
}

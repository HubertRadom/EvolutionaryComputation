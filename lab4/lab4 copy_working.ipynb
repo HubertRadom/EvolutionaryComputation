{
 "cells": [
  {
   "cell_type": "code",
   "execution_count": 34,
   "metadata": {},
   "outputs": [],
   "source": [
    "import numpy as np\n",
    "import pandas as pd\n",
    "import random\n",
    "from matplotlib import pyplot as plt\n",
    "from numba import jit\n",
    "from tqdm import tqdm\n",
    "from itertools import combinations, permutations\n",
    "import time"
   ]
  },
  {
   "cell_type": "code",
   "execution_count": 35,
   "metadata": {},
   "outputs": [],
   "source": [
    "data_A = np.loadtxt('../data/TSPA.csv', delimiter=';').astype(np.int64)\n",
    "data_B = np.loadtxt('../data/TSPB.csv', delimiter=';').astype(np.int64)\n",
    "data_C = np.loadtxt('../data/TSPC.csv', delimiter=';').astype(np.int64)\n",
    "data_D = np.loadtxt('../data/TSPD.csv', delimiter=';').astype(np.int64)"
   ]
  },
  {
   "cell_type": "code",
   "execution_count": 36,
   "metadata": {},
   "outputs": [],
   "source": [
    "def create_cost_matrix(data):\n",
    "    x = data[:, :1]\n",
    "    y = data[:, 1:2]\n",
    "    cost = data[:, 2:3]\n",
    "    return (((x - x.reshape(1, -1))**2 + (y - y.reshape(1, -1))**2) ** (1/2) + cost.reshape(1, -1)).round().astype(np.int64)\n",
    "\n",
    "def create_dist_matrix(data):\n",
    "    x = data[:, :1]\n",
    "    y = data[:, 1:2]\n",
    "    #cost = data[:, 2:3]\n",
    "    return (((x - x.reshape(1, -1))**2 + (y - y.reshape(1, -1))**2) ** (1/2)).round().astype(np.int64)"
   ]
  },
  {
   "cell_type": "code",
   "execution_count": 37,
   "metadata": {},
   "outputs": [],
   "source": [
    "cost_matrix_A = create_cost_matrix(data_A)"
   ]
  },
  {
   "cell_type": "code",
   "execution_count": 38,
   "metadata": {},
   "outputs": [
    {
     "data": {
      "text/plain": [
       "array([[  84, 2032, 2098, ..., 4159, 3783, 1514],\n",
       "       [1633,  483, 2398, ..., 3349, 2266,  817],\n",
       "       [ 720, 1419, 1462, ..., 3640, 3149,  964],\n",
       "       ...,\n",
       "       [2782, 2371, 3641, ..., 1461, 2908, 2554],\n",
       "       [2558, 1440, 3302, ..., 3060, 1309, 1773],\n",
       "       [1234,  936, 2062, ..., 3651, 2718,  364]])"
      ]
     },
     "execution_count": 38,
     "metadata": {},
     "output_type": "execute_result"
    }
   ],
   "source": [
    "cost_matrix_A"
   ]
  },
  {
   "cell_type": "code",
   "execution_count": 39,
   "metadata": {},
   "outputs": [],
   "source": [
    "cost_matrix_B = create_cost_matrix(data_B)"
   ]
  },
  {
   "cell_type": "code",
   "execution_count": 40,
   "metadata": {},
   "outputs": [],
   "source": [
    "cost_matrix_C = create_cost_matrix(data_C)"
   ]
  },
  {
   "cell_type": "code",
   "execution_count": 41,
   "metadata": {},
   "outputs": [],
   "source": [
    "cost_matrix_D = create_cost_matrix(data_D)"
   ]
  },
  {
   "cell_type": "code",
   "execution_count": 42,
   "metadata": {},
   "outputs": [],
   "source": [
    "dist_matrix_A = create_dist_matrix(data_A)\n",
    "dist_matrix_B = create_dist_matrix(data_B)\n",
    "dist_matrix_C = create_dist_matrix(data_C)\n",
    "dist_matrix_D = create_dist_matrix(data_D)"
   ]
  },
  {
   "cell_type": "code",
   "execution_count": 43,
   "metadata": {},
   "outputs": [],
   "source": [
    "def plot(data, solution):\n",
    "    data_ordered = np.array([data[i] for i in solution])\n",
    "    all_data = np.array([data[i] for i in range(200)])\n",
    "\n",
    "    plt.figure(figsize=(10, 10), dpi=80)\n",
    "\n",
    "    plt.scatter(data_ordered[:,0], data_ordered[:,1], s=data_ordered[:,2]/data_ordered[:,2].max()*200, c='b')\n",
    "    plt.scatter(all_data[:,0], all_data[:,1], s=all_data[:,2]/all_data[:,2].max()*200, c='b')\n",
    "    plt.plot(data_ordered[:,0], data_ordered[:,1], 'y-')\n",
    "    plt.plot([data_ordered[0,0], data_ordered[-1,0]], [data_ordered[0,1], data_ordered[-1,1]], 'y-')\n",
    "    plt.show()"
   ]
  },
  {
   "cell_type": "code",
   "execution_count": 44,
   "metadata": {},
   "outputs": [],
   "source": [
    "def calculate_performance(cycle, cost_matrix):\n",
    "    total_sum = 0\n",
    "    for i in range(len(cycle)-1):\n",
    "        total_sum += cost_matrix[cycle[i], cycle[i+1]]\n",
    "    total_sum += cost_matrix[cycle[-1], cycle[0]]\n",
    "    return total_sum"
   ]
  },
  {
   "cell_type": "code",
   "execution_count": 45,
   "metadata": {},
   "outputs": [
    {
     "data": {
      "text/plain": [
       "array([ 0,  1,  2,  3,  4,  5,  6,  7,  8,  9, 10, 11, 12, 13, 14, 15, 16,\n",
       "       17, 18, 19, 20, 21, 22, 23, 24, 25, 26, 27, 28, 29, 30, 31, 32, 33,\n",
       "       34, 35, 36, 37, 38, 39, 40, 41, 42, 43, 44, 45, 46, 47, 48, 49, 50,\n",
       "       51, 52, 53, 54, 55, 56, 57, 58, 59, 60, 61, 62, 63, 64, 65, 66, 67,\n",
       "       68, 69, 70, 71, 72, 73, 74, 75, 76, 77, 78, 79, 80, 81, 82, 83, 84,\n",
       "       85, 86, 87, 88, 89, 90, 91, 92, 93, 94, 95, 96, 97, 98, 99])"
      ]
     },
     "execution_count": 45,
     "metadata": {},
     "output_type": "execute_result"
    }
   ],
   "source": [
    "np.arange(0, 100)"
   ]
  },
  {
   "cell_type": "code",
   "execution_count": 46,
   "metadata": {},
   "outputs": [
    {
     "name": "stdout",
     "output_type": "stream",
     "text": [
      "[59 42 33 53 76 34 43 73 28 36 82 67 22  2 80 58 95 71  5 20 89 84  1 98\n",
      " 54 92 31 55 25 64 12 38 45 23 26 51 83 40 93 81 41 39  6 14  8 66 18 27\n",
      " 17 63 65 35 60 13 74 52 68 94 46 30 88 99 37 96 77 57 29 78 97  7 15 87\n",
      " 24 75 85 32 19 90 10  3 48 62 56 61 49 69 91 70  0 44  4  9 21 47 72 11\n",
      " 86 79 16 50]\n"
     ]
    }
   ],
   "source": [
    "@jit()\n",
    "def random_solution(cost_matrix, limit=100):\n",
    "    random_solution_list = np.arange(0, 100)\n",
    "    np.random.shuffle(random_solution_list)\n",
    "    return random_solution_list[:limit]\n",
    "\n",
    "solution = random_solution(cost_matrix_A, 100)\n",
    "print(solution)"
   ]
  },
  {
   "cell_type": "code",
   "execution_count": 47,
   "metadata": {},
   "outputs": [],
   "source": [
    "# %%timeit\n",
    "# random_solution(cost_matrix_A)"
   ]
  },
  {
   "cell_type": "code",
   "execution_count": 48,
   "metadata": {},
   "outputs": [],
   "source": [
    "@jit()\n",
    "def greedy_cycle(cost_matrix, current_id, limit=100):\n",
    "    all_ids = set(list(range(0,len(cost_matrix))))\n",
    "    all_ids.remove(current_id)\n",
    "    solution = [current_id]\n",
    "    \n",
    "    for _ in range(1):\n",
    "        min_val = 99999\n",
    "        min_id = -1\n",
    "        for next_id in all_ids:\n",
    "            if cost_matrix[current_id][next_id] < min_val:\n",
    "                min_val = cost_matrix[current_id][next_id]\n",
    "                min_id = next_id\n",
    "        solution.append(min_id)\n",
    "        all_ids.remove(min_id)\n",
    "        current_id = min_id\n",
    "    \n",
    "    while len(solution) < limit:\n",
    "        min_delta = 99999\n",
    "        min_id = -1\n",
    "        insert_id = -1\n",
    "        for i in range(len(solution)-1):\n",
    "            for next_id in all_ids:\n",
    "                delta = cost_matrix[solution[i]][next_id] + cost_matrix[next_id][solution[i+1]] - cost_matrix[solution[i]][solution[i+1]]\n",
    "                if delta < min_delta:\n",
    "                    min_delta = delta\n",
    "                    min_id = next_id\n",
    "                    insert_id = i\n",
    "        for next_id in all_ids:\n",
    "            delta = cost_matrix[solution[-1]][next_id] + cost_matrix[next_id][solution[0]] - cost_matrix[solution[-1]][solution[0]]\n",
    "            if delta < min_delta:\n",
    "                min_delta = delta\n",
    "                min_id = next_id\n",
    "                insert_id = i\n",
    "        solution.insert(insert_id+1, min_id)\n",
    "        all_ids.remove(min_id)\n",
    "\n",
    "    return np.array(solution)"
   ]
  },
  {
   "cell_type": "code",
   "execution_count": 49,
   "metadata": {},
   "outputs": [
    {
     "data": {
      "text/plain": [
       "77328"
      ]
     },
     "execution_count": 49,
     "metadata": {},
     "output_type": "execute_result"
    }
   ],
   "source": [
    "calculate_performance(greedy_cycle(cost_matrix_A, 2), cost_matrix_A)"
   ]
  },
  {
   "cell_type": "code",
   "execution_count": 50,
   "metadata": {},
   "outputs": [],
   "source": [
    "# %%timeit\n",
    "# greedy_cycle(cost_matrix_A, 0)"
   ]
  },
  {
   "cell_type": "code",
   "execution_count": null,
   "metadata": {},
   "outputs": [],
   "source": []
  },
  {
   "cell_type": "code",
   "execution_count": 51,
   "metadata": {},
   "outputs": [],
   "source": [
    "# @jit()\n",
    "# def calculate_closest_neighbours(cost_matrix, n_neighbours=10):\n",
    "#     def extract_nodes(ll):\n",
    "#         return [x[1] for x in ll]\n",
    "    \n",
    "#     diag_matrix = np.diag(range(len(cost_matrix))).astype(float)\n",
    "#     np.fill_diagonal(diag_matrix, np.inf)\n",
    "    \n",
    "#     new_cost_matrix = cost_matrix + diag_matrix\n",
    "\n",
    "#     closest_neighbours = dict()\n",
    "#     for i in range(len(new_cost_matrix)):\n",
    "#         closest_neighbours[i] = extract_nodes(sorted(zip(new_cost_matrix[i], range(len(new_cost_matrix))), key=lambda x: x[0])[:n_neighbours])\n",
    "#     return closest_neighbours"
   ]
  },
  {
   "cell_type": "code",
   "execution_count": 52,
   "metadata": {},
   "outputs": [],
   "source": [
    "jit(nopython=True)\n",
    "def calculate_closest_neighbours(cost_matrix, n_neighbours=10):\n",
    "    def extract_nodes(ll):\n",
    "        return [x[1] for x in ll]\n",
    "    \n",
    "    diag_matrix = np.diag(range(len(cost_matrix))).astype(float)\n",
    "    np.fill_diagonal(diag_matrix, np.inf)\n",
    "    \n",
    "    new_cost_matrix = cost_matrix + diag_matrix\n",
    "\n",
    "    closest_neighbours = dict()\n",
    "    for i in range(len(new_cost_matrix)):\n",
    "        closest_neighbours[i] = extract_nodes(sorted(zip(new_cost_matrix[i], range(len(new_cost_matrix))), key=lambda x: x[0])[:n_neighbours])\n",
    "    return closest_neighbours"
   ]
  },
  {
   "cell_type": "code",
   "execution_count": 53,
   "metadata": {},
   "outputs": [],
   "source": [
    "# calculate_closest_neighbours(cost_matrix_A, 10)"
   ]
  },
  {
   "cell_type": "code",
   "execution_count": 54,
   "metadata": {},
   "outputs": [],
   "source": [
    "jit(nopython=True)\n",
    "def calculate_closest_neighbours_solution(cost_matrix, solution, n_neighbours=10):\n",
    "    def extract_nodes(ll):\n",
    "        return [solution[x[1]] for x in ll]\n",
    "    \n",
    "    diag_matrix = np.diag(range(len(cost_matrix))).astype(float)\n",
    "    np.fill_diagonal(diag_matrix, np.inf)\n",
    "    \n",
    "    new_cost_matrix = cost_matrix[solution, :][:, solution] + diag_matrix[solution, :][:, solution]\n",
    "\n",
    "    closest_neighbours = dict()\n",
    "    for i in range(len(new_cost_matrix)):\n",
    "        closest_neighbours[solution[i]] = extract_nodes(sorted(zip(new_cost_matrix[i], range(len(new_cost_matrix))), key=lambda x: x[0])[:n_neighbours])\n",
    "    return closest_neighbours"
   ]
  },
  {
   "cell_type": "code",
   "execution_count": 55,
   "metadata": {},
   "outputs": [
    {
     "data": {
      "text/plain": [
       "{0: [19, 178, 149, 114, 4, 55, 164, 50, 76, 43],\n",
       " 1: [177, 75, 189, 41, 199, 48, 152, 11, 119, 4],\n",
       " 2: [4, 114, 77, 0, 43, 149, 75, 175, 167, 91],\n",
       " 3: [178, 0, 164, 19, 128, 59, 132, 143, 96, 55],\n",
       " 4: [114, 77, 0, 43, 149, 19, 121, 91, 75, 175],\n",
       " 5: [135, 95, 98, 112, 169, 72, 6, 51, 167, 8],\n",
       " 6: [98, 141, 66, 186, 72, 156, 135, 172, 79, 190],\n",
       " 7: [74, 163, 195, 55, 62, 113, 117, 22, 53, 32],\n",
       " 8: [95, 169, 80, 26, 135, 48, 119, 31, 189, 75],\n",
       " 9: [167, 75, 189, 135, 177, 186, 4, 114, 101, 119],\n",
       " 10: [132, 55, 74, 113, 163, 185, 128, 195, 96, 59],\n",
       " 11: [48, 152, 75, 177, 189, 106, 119, 1, 160, 26],\n",
       " 12: [98, 94, 95, 72, 31, 6, 135, 169, 73, 112],\n",
       " 13: [26, 48, 8, 95, 119, 169, 106, 75, 189, 135],\n",
       " 14: [111, 95, 80, 31, 8, 98, 94, 169, 72, 135],\n",
       " 15: [117, 55, 195, 22, 74, 53, 62, 79, 163, 108],\n",
       " 16: [48, 75, 152, 11, 189, 177, 119, 106, 130, 1],\n",
       " 17: [75, 189, 177, 167, 4, 135, 114, 119, 199, 1],\n",
       " 18: [55, 117, 195, 22, 74, 53, 163, 62, 113, 79],\n",
       " 19: [178, 0, 149, 164, 114, 4, 43, 128, 50, 59],\n",
       " 20: [185, 71, 74, 163, 64, 113, 96, 183, 59, 55],\n",
       " 21: [79, 141, 186, 55, 117, 22, 194, 195, 171, 154],\n",
       " 22: [55, 195, 117, 74, 163, 53, 113, 62, 79, 132],\n",
       " 23: [185, 96, 59, 132, 74, 113, 55, 163, 178, 128],\n",
       " 24: [141, 6, 98, 186, 79, 66, 167, 87, 135, 154],\n",
       " 25: [74, 185, 113, 163, 55, 96, 195, 132, 59, 64],\n",
       " 26: [48, 8, 119, 95, 75, 189, 169, 135, 106, 11],\n",
       " 27: [96, 147, 59, 143, 185, 116, 178, 159, 64, 164],\n",
       " 28: [55, 117, 22, 195, 79, 74, 53, 163, 171, 62],\n",
       " 29: [4, 114, 77, 0, 43, 75, 199, 177, 167, 175],\n",
       " 30: [55, 195, 74, 163, 22, 113, 117, 132, 53, 62],\n",
       " 31: [95, 169, 98, 8, 80, 94, 135, 111, 14, 72],\n",
       " 32: [62, 55, 117, 74, 195, 163, 180, 22, 154, 81],\n",
       " 33: [48, 26, 119, 8, 95, 75, 189, 135, 169, 177],\n",
       " 34: [178, 164, 59, 0, 19, 143, 96, 128, 132, 159],\n",
       " 35: [19, 0, 178, 149, 114, 4, 43, 50, 164, 77],\n",
       " 36: [55, 132, 195, 74, 113, 128, 163, 22, 0, 117],\n",
       " 37: [59, 96, 178, 128, 132, 185, 143, 55, 164, 0],\n",
       " 38: [0, 19, 149, 178, 114, 4, 55, 164, 76, 50],\n",
       " 39: [177, 75, 199, 189, 4, 1, 114, 41, 174, 167],\n",
       " 40: [178, 0, 128, 164, 19, 132, 59, 55, 96, 143],\n",
       " 41: [177, 75, 189, 1, 199, 152, 48, 4, 11, 114],\n",
       " 42: [98, 94, 95, 72, 31, 111, 14, 89, 6, 169],\n",
       " 43: [4, 114, 0, 19, 149, 77, 50, 178, 121, 199],\n",
       " 44: [141, 154, 79, 87, 117, 55, 186, 81, 144, 6],\n",
       " 45: [186, 167, 141, 79, 98, 6, 135, 114, 88, 153],\n",
       " 46: [96, 59, 185, 147, 143, 27, 178, 64, 74, 113],\n",
       " 47: [74, 195, 55, 163, 22, 113, 117, 62, 53, 132],\n",
       " 48: [106, 11, 152, 75, 26, 189, 119, 177, 92, 8],\n",
       " 49: [0, 19, 178, 149, 114, 55, 4, 76, 128, 132],\n",
       " 50: [0, 114, 4, 149, 19, 43, 178, 121, 91, 77],\n",
       " 51: [135, 95, 98, 169, 112, 167, 72, 8, 6, 189],\n",
       " 52: [48, 26, 8, 119, 106, 95, 75, 189, 11, 152],\n",
       " 53: [55, 195, 117, 22, 74, 163, 62, 113, 108, 79],\n",
       " 54: [55, 195, 22, 117, 132, 74, 0, 163, 113, 128],\n",
       " 55: [195, 22, 117, 74, 163, 113, 132, 53, 79, 0],\n",
       " 56: [20, 185, 71, 74, 163, 64, 113, 96, 183, 59],\n",
       " 57: [185, 96, 74, 59, 113, 163, 132, 55, 128, 178],\n",
       " 58: [178, 0, 19, 164, 149, 128, 55, 59, 132, 114],\n",
       " 59: [96, 143, 147, 178, 159, 185, 27, 164, 128, 132],\n",
       " 60: [167, 75, 189, 135, 177, 186, 4, 114, 101, 119],\n",
       " 61: [74, 163, 113, 71, 185, 20, 195, 55, 183, 64],\n",
       " 62: [55, 74, 195, 117, 163, 22, 53, 113, 108, 79],\n",
       " 63: [96, 59, 147, 143, 185, 178, 27, 159, 164, 132],\n",
       " 64: [185, 96, 20, 74, 163, 113, 71, 59, 147, 55],\n",
       " 65: [178, 0, 19, 128, 164, 132, 55, 59, 96, 143],\n",
       " 66: [98, 6, 141, 72, 135, 186, 190, 156, 95, 172],\n",
       " 67: [141, 79, 186, 6, 87, 98, 21, 154, 55, 117],\n",
       " 68: [98, 6, 66, 141, 186, 135, 167, 72, 95, 79],\n",
       " 69: [0, 19, 178, 149, 114, 4, 43, 164, 50, 55],\n",
       " 70: [96, 147, 59, 143, 27, 185, 178, 159, 64, 116],\n",
       " 71: [20, 74, 163, 185, 113, 64, 183, 96, 55, 195],\n",
       " 72: [98, 6, 95, 135, 94, 66, 190, 112, 169, 31],\n",
       " 73: [95, 98, 31, 169, 135, 72, 94, 8, 112, 80],\n",
       " 74: [163, 113, 195, 55, 22, 117, 185, 132, 62, 71],\n",
       " 75: [189, 177, 1, 199, 119, 48, 41, 167, 152, 4],\n",
       " 76: [0, 55, 114, 4, 186, 149, 19, 195, 117, 79],\n",
       " 77: [4, 114, 43, 0, 149, 19, 199, 121, 75, 50],\n",
       " 78: [186, 141, 79, 167, 98, 6, 135, 66, 45, 21],\n",
       " 79: [141, 186, 21, 55, 117, 194, 154, 87, 171, 22],\n",
       " 80: [95, 8, 169, 14, 31, 135, 111, 26, 98, 124],\n",
       " 81: [154, 141, 117, 55, 79, 195, 62, 22, 171, 74],\n",
       " 82: [185, 96, 59, 64, 147, 74, 163, 113, 20, 143],\n",
       " 83: [75, 189, 177, 4, 167, 199, 114, 1, 135, 174],\n",
       " 84: [128, 132, 178, 59, 96, 55, 0, 185, 143, 164],\n",
       " 85: [185, 74, 113, 163, 55, 132, 96, 195, 59, 128],\n",
       " 86: [0, 114, 4, 19, 149, 43, 178, 50, 77, 121],\n",
       " 87: [141, 79, 154, 186, 6, 144, 98, 21, 55, 117],\n",
       " 88: [186, 167, 114, 79, 153, 4, 141, 127, 55, 0],\n",
       " 89: [98, 94, 95, 31, 72, 111, 169, 14, 135, 6],\n",
       " 90: [189, 75, 135, 119, 177, 95, 167, 48, 109, 134],\n",
       " 91: [114, 4, 0, 149, 121, 19, 50, 43, 77, 76],\n",
       " 92: [48, 75, 119, 189, 11, 152, 26, 177, 106, 8],\n",
       " 93: [74, 163, 62, 55, 195, 117, 22, 113, 53, 108],\n",
       " 94: [98, 72, 95, 6, 31, 135, 111, 66, 169, 89],\n",
       " 95: [169, 8, 135, 98, 31, 80, 112, 72, 119, 26],\n",
       " 96: [147, 59, 143, 27, 185, 178, 159, 116, 64, 164],\n",
       " 97: [75, 177, 189, 4, 199, 114, 167, 1, 174, 135],\n",
       " 98: [6, 66, 72, 141, 190, 135, 94, 95, 186, 156],\n",
       " 99: [135, 167, 75, 189, 95, 119, 98, 186, 101, 169],\n",
       " 100: [48, 119, 26, 189, 75, 8, 95, 135, 169, 177],\n",
       " 101: [167, 135, 75, 186, 189, 114, 177, 4, 98, 95],\n",
       " 102: [141, 79, 154, 87, 144, 186, 6, 117, 55, 21],\n",
       " 103: [74, 163, 183, 113, 71, 20, 195, 55, 185, 62],\n",
       " 104: [79, 55, 117, 141, 21, 186, 171, 22, 195, 154],\n",
       " 105: [8, 95, 169, 80, 135, 26, 48, 119, 31, 98],\n",
       " 106: [48, 11, 152, 26, 160, 75, 119, 189, 177, 8],\n",
       " 107: [95, 80, 31, 8, 14, 169, 111, 98, 94, 135],\n",
       " 108: [117, 55, 195, 22, 62, 74, 53, 79, 163, 171],\n",
       " 109: [189, 75, 119, 177, 48, 135, 167, 1, 95, 152],\n",
       " 110: [95, 8, 169, 135, 80, 26, 119, 48, 31, 98],\n",
       " 111: [14, 95, 31, 98, 94, 80, 169, 8, 72, 135],\n",
       " 112: [95, 135, 98, 169, 72, 6, 8, 51, 31, 66],\n",
       " 113: [74, 163, 55, 195, 185, 132, 22, 117, 71, 96],\n",
       " 114: [4, 0, 77, 149, 43, 91, 121, 19, 167, 50],\n",
       " 115: [0, 19, 178, 149, 114, 4, 164, 55, 50, 43],\n",
       " 116: [96, 147, 27, 59, 143, 185, 178, 159, 64, 20],\n",
       " 117: [55, 22, 195, 74, 53, 79, 163, 62, 108, 171],\n",
       " 118: [128, 132, 178, 55, 0, 59, 96, 164, 74, 195],\n",
       " 119: [189, 75, 48, 135, 177, 95, 26, 8, 109, 130],\n",
       " 120: [55, 117, 195, 22, 62, 74, 53, 163, 108, 79],\n",
       " 121: [114, 4, 0, 149, 91, 19, 43, 50, 77, 178],\n",
       " 122: [98, 94, 72, 95, 6, 66, 31, 135, 190, 169],\n",
       " 123: [8, 95, 80, 169, 26, 135, 48, 31, 119, 124],\n",
       " 124: [8, 95, 80, 169, 135, 31, 26, 14, 48, 98],\n",
       " 125: [8, 48, 26, 95, 169, 119, 106, 80, 135, 75],\n",
       " 126: [75, 189, 177, 167, 135, 119, 1, 4, 109, 48],\n",
       " 127: [186, 167, 79, 88, 114, 141, 153, 4, 55, 21],\n",
       " 128: [132, 178, 55, 0, 59, 164, 19, 96, 195, 74],\n",
       " 129: [79, 186, 141, 55, 21, 117, 114, 167, 22, 76],\n",
       " 130: [75, 189, 48, 177, 119, 152, 11, 1, 26, 109],\n",
       " 131: [62, 154, 55, 117, 74, 195, 141, 81, 163, 180],\n",
       " 132: [55, 128, 195, 74, 113, 163, 0, 178, 185, 22],\n",
       " 133: [141, 154, 79, 117, 55, 81, 87, 186, 171, 21],\n",
       " 134: [135, 189, 119, 75, 95, 167, 177, 48, 169, 8],\n",
       " 135: [95, 167, 98, 169, 189, 75, 51, 112, 119, 8],\n",
       " 136: [55, 195, 22, 132, 117, 0, 74, 163, 128, 113],\n",
       " 137: [177, 75, 189, 1, 199, 41, 4, 114, 48, 174],\n",
       " 138: [74, 163, 195, 55, 113, 22, 117, 62, 132, 53],\n",
       " 139: [95, 169, 8, 135, 119, 26, 48, 189, 75, 80],\n",
       " 140: [185, 74, 163, 113, 96, 64, 20, 55, 71, 59],\n",
       " 141: [6, 79, 186, 98, 87, 154, 144, 66, 21, 24],\n",
       " 142: [74, 163, 113, 185, 55, 195, 132, 96, 71, 20],\n",
       " 143: [59, 96, 178, 147, 159, 164, 185, 19, 27, 0],\n",
       " 144: [141, 79, 154, 87, 6, 186, 98, 117, 55, 21],\n",
       " 145: [55, 0, 76, 132, 195, 178, 19, 114, 128, 22],\n",
       " 146: [74, 163, 62, 55, 195, 117, 113, 22, 53, 32],\n",
       " 147: [96, 59, 27, 143, 178, 185, 116, 159, 164, 64],\n",
       " 148: [48, 106, 26, 11, 119, 152, 8, 75, 189, 177],\n",
       " 149: [0, 19, 114, 4, 178, 50, 43, 91, 121, 77],\n",
       " 150: [4, 199, 114, 177, 75, 43, 77, 192, 0, 189],\n",
       " 151: [0, 55, 19, 178, 76, 114, 149, 132, 4, 128],\n",
       " 152: [48, 11, 75, 177, 189, 1, 119, 106, 130, 160],\n",
       " 153: [186, 114, 167, 4, 88, 79, 0, 55, 141, 175],\n",
       " 154: [141, 79, 81, 117, 55, 87, 186, 171, 195, 144],\n",
       " 155: [74, 163, 195, 55, 62, 117, 113, 22, 53, 132],\n",
       " 156: [98, 6, 66, 141, 72, 186, 135, 172, 190, 95],\n",
       " 157: [79, 21, 186, 141, 55, 117, 22, 195, 194, 171],\n",
       " 158: [59, 96, 178, 143, 185, 128, 132, 164, 55, 147],\n",
       " 159: [59, 143, 96, 178, 147, 164, 19, 185, 0, 128],\n",
       " 160: [48, 11, 106, 152, 75, 177, 189, 26, 119, 1],\n",
       " 161: [114, 0, 4, 186, 76, 55, 79, 149, 153, 91],\n",
       " 162: [48, 11, 152, 106, 75, 177, 189, 160, 119, 26],\n",
       " 163: [74, 113, 195, 55, 185, 22, 117, 62, 132, 71],\n",
       " 164: [178, 19, 0, 59, 143, 128, 96, 132, 159, 55],\n",
       " 165: [95, 98, 72, 135, 169, 94, 31, 112, 73, 6],\n",
       " 166: [74, 163, 113, 185, 55, 195, 96, 132, 64, 71],\n",
       " 167: [186, 135, 75, 114, 4, 189, 101, 177, 175, 98],\n",
       " 168: [14, 95, 80, 8, 111, 31, 169, 98, 94, 135],\n",
       " 169: [95, 8, 135, 80, 98, 31, 112, 119, 26, 48],\n",
       " 170: [186, 79, 141, 21, 55, 167, 117, 114, 88, 153],\n",
       " 171: [117, 55, 79, 22, 195, 141, 154, 21, 62, 74],\n",
       " 172: [98, 6, 66, 141, 72, 156, 186, 135, 190, 95],\n",
       " 173: [75, 177, 189, 199, 4, 114, 167, 1, 174, 41],\n",
       " 174: [75, 177, 189, 199, 1, 4, 114, 167, 41, 119],\n",
       " 175: [114, 4, 167, 186, 75, 0, 77, 189, 177, 153],\n",
       " 176: [114, 4, 167, 175, 186, 0, 77, 75, 91, 153],\n",
       " 177: [75, 189, 1, 199, 41, 48, 152, 4, 119, 174],\n",
       " 178: [19, 164, 0, 143, 59, 96, 128, 149, 159, 132],\n",
       " 179: [98, 95, 94, 72, 31, 169, 135, 73, 6, 112],\n",
       " 180: [62, 55, 117, 74, 195, 163, 32, 22, 154, 81],\n",
       " 181: [74, 113, 163, 185, 55, 195, 132, 96, 64, 59],\n",
       " 182: [74, 163, 195, 113, 55, 62, 117, 22, 183, 53],\n",
       " 183: [163, 74, 71, 20, 113, 103, 185, 195, 55, 61],\n",
       " 184: [79, 141, 21, 55, 186, 117, 154, 171, 194, 22],\n",
       " 185: [96, 64, 74, 59, 163, 113, 20, 147, 71, 55],\n",
       " 186: [79, 141, 167, 88, 114, 153, 98, 6, 21, 4],\n",
       " 187: [4, 114, 77, 75, 199, 177, 43, 192, 0, 167],\n",
       " 188: [75, 177, 152, 48, 189, 11, 1, 119, 41, 130],\n",
       " 189: [75, 177, 119, 1, 48, 167, 135, 109, 199, 152],\n",
       " 190: [98, 72, 6, 66, 95, 135, 94, 112, 141, 169],\n",
       " 191: [95, 8, 169, 80, 31, 135, 98, 14, 111, 94],\n",
       " 192: [4, 114, 199, 75, 177, 77, 43, 189, 0, 167],\n",
       " 193: [0, 178, 19, 128, 164, 55, 132, 149, 59, 114],\n",
       " 194: [79, 141, 186, 21, 55, 117, 154, 171, 87, 22],\n",
       " 195: [55, 74, 22, 163, 117, 113, 53, 132, 62, 79],\n",
       " 196: [135, 95, 169, 98, 112, 8, 51, 167, 119, 189],\n",
       " 197: [95, 111, 14, 31, 80, 98, 94, 169, 8, 72],\n",
       " 198: [48, 106, 11, 152, 26, 160, 75, 119, 189, 177],\n",
       " 199: [177, 75, 4, 189, 114, 1, 41, 192, 77, 43]}"
      ]
     },
     "execution_count": 55,
     "metadata": {},
     "output_type": "execute_result"
    }
   ],
   "source": [
    "calculate_closest_neighbours(cost_matrix_A)"
   ]
  },
  {
   "cell_type": "code",
   "execution_count": 56,
   "metadata": {},
   "outputs": [
    {
     "data": {
      "text/plain": [
       "{1: [11, 4, 8, 6, 9, 2, 5, 12, 13, 7],\n",
       " 2: [4, 1, 6, 11, 8, 9, 5, 12, 7, 10],\n",
       " 3: [4, 10, 6, 1, 7, 2, 11, 8, 9, 5],\n",
       " 4: [1, 2, 6, 11, 8, 9, 5, 12, 7, 3],\n",
       " 5: [6, 8, 12, 4, 1, 11, 9, 13, 2, 7],\n",
       " 6: [8, 12, 4, 5, 1, 11, 9, 7, 2, 13],\n",
       " 7: [6, 4, 10, 1, 8, 3, 2, 5, 12, 11],\n",
       " 8: [11, 6, 1, 12, 5, 4, 13, 9, 2, 7],\n",
       " 9: [4, 1, 6, 8, 11, 5, 2, 12, 13, 7],\n",
       " 10: [4, 7, 6, 3, 1, 2, 8, 11, 9, 5],\n",
       " 11: [1, 8, 4, 6, 13, 5, 9, 12, 2, 7],\n",
       " 12: [6, 8, 5, 4, 11, 1, 9, 13, 2, 7],\n",
       " 13: [8, 11, 1, 6, 4, 5, 12, 9, 2, 7]}"
      ]
     },
     "execution_count": 56,
     "metadata": {},
     "output_type": "execute_result"
    }
   ],
   "source": [
    "calculate_closest_neighbours_solution(cost_matrix_A, [1,2,3,4,5,6,7,8,9,10,11,12,13])"
   ]
  },
  {
   "cell_type": "code",
   "execution_count": 57,
   "metadata": {},
   "outputs": [],
   "source": [
    "pre = calculate_closest_neighbours_solution(cost_matrix_A, list(range(100)))"
   ]
  },
  {
   "cell_type": "code",
   "execution_count": 58,
   "metadata": {},
   "outputs": [],
   "source": [
    "solution = list(range(15)) + list(range(100, 115))"
   ]
  },
  {
   "cell_type": "code",
   "execution_count": 59,
   "metadata": {},
   "outputs": [],
   "source": [
    "# %%timeit\n",
    "# calculate_closest_neighbours_solution(cost_matrix_A, solution)"
   ]
  },
  {
   "cell_type": "code",
   "execution_count": 60,
   "metadata": {},
   "outputs": [],
   "source": [
    "def calculate_change_before(enhanced_solution, cost_matrix, position_1, position_2):\n",
    "    return (cost_matrix[enhanced_solution[position_1], enhanced_solution[position_2]] + cost_matrix[enhanced_solution[position_1-1], enhanced_solution[position_2-1]] -\n",
    "            ( cost_matrix[enhanced_solution[position_1-1], enhanced_solution[position_1]] + cost_matrix[enhanced_solution[position_2-1], enhanced_solution[position_2]] )\n",
    "            )\n",
    "\n",
    "def calculate_change_after(enhanced_solution, cost_matrix, position_1, position_2):\n",
    "    return (cost_matrix[enhanced_solution[position_1], enhanced_solution[position_2]] + cost_matrix[enhanced_solution[(position_1+1)%len(enhanced_solution)], enhanced_solution[(position_2+1)%len(enhanced_solution)]] -\n",
    "            ( cost_matrix[enhanced_solution[position_1], enhanced_solution[(position_1+1)%len(enhanced_solution)]] + cost_matrix[enhanced_solution[position_2], enhanced_solution[(position_2+1)%len(enhanced_solution)]] )\n",
    "            )"
   ]
  },
  {
   "cell_type": "code",
   "execution_count": 61,
   "metadata": {},
   "outputs": [],
   "source": [
    "def calculate_change_inter(enhanced_solution, cost_matrix, position_1, node_closest):\n",
    "    return (cost_matrix[enhanced_solution[position_1], node_closest] + cost_matrix[node_closest, enhanced_solution[(position_1+2)%len(enhanced_solution)]] -\n",
    "           (cost_matrix[enhanced_solution[position_1], enhanced_solution[(position_1+1)%len(enhanced_solution)]] + cost_matrix[enhanced_solution[(position_1+1)%len(enhanced_solution)], enhanced_solution[(position_1+2)%len(enhanced_solution)]])\n",
    "           )"
   ]
  },
  {
   "cell_type": "code",
   "execution_count": 62,
   "metadata": {},
   "outputs": [],
   "source": [
    "import time"
   ]
  },
  {
   "cell_type": "code",
   "execution_count": 63,
   "metadata": {},
   "outputs": [],
   "source": [
    "# @jit()\n",
    "def enhance_solution(initial_solution, closest_neighbours, distance_matrix, cost_matrix):\n",
    "    start_all = time.time()\n",
    "    enhanced_solution = list(initial_solution)\n",
    "    previous_solution = 0\n",
    "    current_solution = calculate_performance(initial_solution, cost_matrix)\n",
    "    \n",
    "    total_time_rest = 0\n",
    "    total_time_edges = 0\n",
    "    total_time_inter = 0\n",
    "    while True:\n",
    "        best_type = None\n",
    "\n",
    "        ## Edges\n",
    "        previous_solution = current_solution\n",
    "        best_delta_edges = 0                  # e.g. -10\n",
    "        best_edges_positions = None     # e.g. [1, 10]\n",
    "        best_type = None                # before or after\n",
    "\n",
    "        best_delta_inter = 0\n",
    "        best_positions_inter = None\n",
    "\n",
    "        best_operation = None\n",
    "\n",
    "        neighbours_positions = {node: enhanced_solution.index(node) for node in enhanced_solution}\n",
    "        \n",
    "        start_rest = time.time()\n",
    "        for position in range(len(initial_solution)):\n",
    "            for neighbour in closest_neighbours[enhanced_solution[position]]:\n",
    "                ## Intra edges\n",
    "                if neighbour in enhanced_solution:\n",
    "                    start = time.time()\n",
    "                    position_neighbour = neighbours_positions[neighbour]\n",
    "                    \n",
    "                    if abs(position - position_neighbour) == 1: continue\n",
    "                        \n",
    "                    \n",
    "                    for swap_type in ('before', 'after'):\n",
    "                        \n",
    "                        if swap_type == 'before':\n",
    "                            delta = calculate_change_before(enhanced_solution, distance_matrix, position_1=position, position_2=position_neighbour)\n",
    "                            \n",
    "                        elif swap_type == 'after':\n",
    "                            delta = calculate_change_after(enhanced_solution, distance_matrix, position_1=position, position_2=position_neighbour)\n",
    "                        \n",
    "                        if delta < best_delta_edges:\n",
    "                            best_delta_edges = delta\n",
    "                            best_edges_positions = [position, position_neighbour]\n",
    "                            best_type = swap_type\n",
    "                    end = time.time()\n",
    "                    total_time_edges += end - start\n",
    "                ##Inter\n",
    "                else:\n",
    "                    start = time.time()\n",
    "                    delta = calculate_change_inter(enhanced_solution, cost_matrix, position_1=position, node_closest=neighbour)\n",
    "                    if delta < best_delta_inter:\n",
    "                        best_delta_inter = delta\n",
    "                        best_positions_inter = [position, neighbour]\n",
    "                    end = time.time()\n",
    "                    total_time_inter += end - start \n",
    "\n",
    "        end_rest = time.time()\n",
    "        total_time_rest += end_rest - start_rest\n",
    "           \n",
    "        \n",
    "        if any([best_delta_inter != 0, best_delta_edges != 0]):\n",
    "            if best_delta_edges < best_delta_inter:\n",
    "                best_operation = 'edges'\n",
    "            else:\n",
    "                best_operation = 'inter'\n",
    "        elif all([best_delta_inter == 0, best_delta_edges == 0]):\n",
    "            end_all = time.time()\n",
    "            return enhanced_solution, total_time_edges, total_time_inter, end_all - start_all, total_time_rest\n",
    "\n",
    "        #Edges\n",
    "        if best_operation == 'edges':\n",
    "            if best_delta_edges == 0:\n",
    "                print(\"XD\")\n",
    "                return enhanced_solution, total_time_edges, total_time_inter\n",
    "            else:\n",
    "                if best_type == 'before':\n",
    "                    if best_edges_positions[0] < best_edges_positions[1]:\n",
    "                        enhanced_solution = enhanced_solution[:best_edges_positions[0]] + enhanced_solution[best_edges_positions[0]:best_edges_positions[1]][::-1] + enhanced_solution[best_edges_positions[1]:]\n",
    "                    else:\n",
    "                        enhanced_solution = enhanced_solution[best_edges_positions[1]:best_edges_positions[0]] + list(enhanced_solution[best_edges_positions[0]:] + enhanced_solution[:best_edges_positions[1]])[::-1]\n",
    "                elif best_type == 'after':\n",
    "                    if best_edges_positions[0] < best_edges_positions[1]:\n",
    "                        enhanced_solution = enhanced_solution[:(best_edges_positions[0]+1)%len(enhanced_solution)] + enhanced_solution[(best_edges_positions[0]+1)%len(enhanced_solution):(best_edges_positions[1]+1)][::-1] + enhanced_solution[(best_edges_positions[1]+1):]\n",
    "                    else:\n",
    "                        enhanced_solution = enhanced_solution[best_edges_positions[1]+1:best_edges_positions[0]+1] + list(enhanced_solution[(best_edges_positions[0]+1):] + enhanced_solution[:best_edges_positions[1]+1])[::-1]\n",
    "        #Inter\n",
    "        else:\n",
    "            enhanced_solution[(best_positions_inter[0]+1)%len(enhanced_solution)] = best_positions_inter[1]\n",
    "            pass\n",
    "        \n",
    "                \n",
    "        current_solution = calculate_performance(enhanced_solution, cost_matrix)\n",
    "        assert current_solution < previous_solution\n",
    "\n",
    "        \n",
    "        \n"
   ]
  },
  {
   "cell_type": "code",
   "execution_count": 64,
   "metadata": {},
   "outputs": [],
   "source": [
    "from tqdm import tqdm\n",
    "import sys"
   ]
  },
  {
   "cell_type": "code",
   "execution_count": 65,
   "metadata": {},
   "outputs": [],
   "source": [
    "def start_enhancement(starting_solution_type: str, cost_matrix, distance_matrix, n_neighbours=10):\n",
    "    total_costs = []\n",
    "    total_cost_random = 0\n",
    "    total_time = 0\n",
    "    total_time_edges = 0\n",
    "    total_time_inter = 0\n",
    "    total_time_rest = 0\n",
    "    for i in tqdm(range(len(distance_matrix))):\n",
    "        # print(i)\n",
    "        if starting_solution_type == 'greedy':\n",
    "            initial_solution = greedy_cycle(cost_matrix, i, limit=100)\n",
    "        elif starting_solution_type == 'random':\n",
    "            initial_solution = random_solution(cost_matrix, limit=100)\n",
    "        else:\n",
    "            return 'Bad type'\n",
    "        initial_cost = calculate_performance(initial_solution, cost_matrix)\n",
    "        total_cost_random += initial_cost\n",
    "\n",
    "        closest_neighbours = calculate_closest_neighbours(distance_matrix, n_neighbours=n_neighbours)\n",
    "        enhanced_solution, time_edges, time_inter, time_all, time_rest = enhance_solution(initial_solution, closest_neighbours, distance_matrix, cost_matrix)\n",
    "        total_costs.append(calculate_performance(enhanced_solution, cost_matrix))\n",
    "        total_time += time_all\n",
    "        total_time_edges += time_edges\n",
    "        total_time_inter += time_inter\n",
    "        total_time_rest += time_rest\n",
    "\n",
    "        ## Uncomment those lines and delete tqdm for it to work properly (useful for time improvement checking) \n",
    "        # sys.stdout.write(\"Total time (edges, inter, rest, everything) (%f, %f, %f, %f) Progress (%d / 200)  \\r\" % (total_time_edges, total_time_inter, total_time_rest, total_time, i+1) )\n",
    "        # sys.stdout.flush()\n",
    "\n",
    "    total_costs = np.array(total_costs)\n",
    "    return (total_costs.mean(), total_costs.min(), total_costs.max()) #, total_cost_random / len(cost_matrix), total_time, total_time / len(cost_matrix)\n",
    "        \n",
    "        \n",
    "\n",
    "        \n"
   ]
  },
  {
   "cell_type": "code",
   "execution_count": 66,
   "metadata": {},
   "outputs": [
    {
     "name": "stderr",
     "output_type": "stream",
     "text": [
      "100%|██████████| 200/200 [02:38<00:00,  1.26it/s]\n"
     ]
    },
    {
     "data": {
      "text/plain": [
       "(51988.605, 49698, 55180)"
      ]
     },
     "execution_count": 66,
     "metadata": {},
     "output_type": "execute_result"
    }
   ],
   "source": [
    "start_enhancement('random', cost_matrix=cost_matrix_C, distance_matrix=dist_matrix_C, n_neighbours=10)"
   ]
  },
  {
   "cell_type": "code",
   "execution_count": 67,
   "metadata": {},
   "outputs": [
    {
     "name": "stderr",
     "output_type": "stream",
     "text": [
      "100%|██████████| 200/200 [02:44<00:00,  1.21it/s]\n"
     ]
    },
    {
     "data": {
      "text/plain": [
       "(49526.27, 46260, 53677)"
      ]
     },
     "execution_count": 67,
     "metadata": {},
     "output_type": "execute_result"
    }
   ],
   "source": [
    "start_enhancement('random', cost_matrix=cost_matrix_D, distance_matrix=dist_matrix_D, n_neighbours=10)"
   ]
  },
  {
   "cell_type": "code",
   "execution_count": null,
   "metadata": {},
   "outputs": [],
   "source": []
  }
 ],
 "metadata": {
  "kernelspec": {
   "display_name": "Python 3.9.7 ('base')",
   "language": "python",
   "name": "python3"
  },
  "language_info": {
   "codemirror_mode": {
    "name": "ipython",
    "version": 3
   },
   "file_extension": ".py",
   "mimetype": "text/x-python",
   "name": "python",
   "nbconvert_exporter": "python",
   "pygments_lexer": "ipython3",
   "version": "3.9.7"
  },
  "orig_nbformat": 4,
  "vscode": {
   "interpreter": {
    "hash": "40ff2f3c5fda09d612a4e997a2c110ac691c818ee9e0c88cff16f765d02f300a"
   }
  }
 },
 "nbformat": 4,
 "nbformat_minor": 2
}

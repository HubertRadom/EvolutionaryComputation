{
 "cells": [
  {
   "cell_type": "code",
   "execution_count": 1,
   "metadata": {},
   "outputs": [],
   "source": [
    "import numpy as np\n",
    "import pandas as pd\n",
    "import random\n",
    "from matplotlib import pyplot as plt\n",
    "from numba import jit\n",
    "from tqdm import tqdm\n",
    "from itertools import combinations, permutations\n",
    "import time"
   ]
  },
  {
   "cell_type": "code",
   "execution_count": 2,
   "metadata": {},
   "outputs": [],
   "source": [
    "data_A = np.loadtxt('../data/TSPA.csv', delimiter=';').astype(np.int64)\n",
    "data_B = np.loadtxt('../data/TSPB.csv', delimiter=';').astype(np.int64)\n",
    "data_C = np.loadtxt('../data/TSPC.csv', delimiter=';').astype(np.int64)\n",
    "data_D = np.loadtxt('../data/TSPD.csv', delimiter=';').astype(np.int64)"
   ]
  },
  {
   "cell_type": "code",
   "execution_count": 3,
   "metadata": {},
   "outputs": [],
   "source": [
    "def create_cost_matrix(data):\n",
    "    x = data[:, :1]\n",
    "    y = data[:, 1:2]\n",
    "    cost = data[:, 2:3]\n",
    "    return (((x - x.reshape(1, -1))**2 + (y - y.reshape(1, -1))**2) ** (1/2) + cost.reshape(1, -1)).round().astype(np.int64)\n",
    "\n",
    "def create_dist_matrix(data):\n",
    "    x = data[:, :1]\n",
    "    y = data[:, 1:2]\n",
    "    #cost = data[:, 2:3]\n",
    "    return (((x - x.reshape(1, -1))**2 + (y - y.reshape(1, -1))**2) ** (1/2)).round().astype(np.int64)"
   ]
  },
  {
   "cell_type": "code",
   "execution_count": 4,
   "metadata": {},
   "outputs": [],
   "source": [
    "cost_matrix_A = create_cost_matrix(data_A)"
   ]
  },
  {
   "cell_type": "code",
   "execution_count": 5,
   "metadata": {},
   "outputs": [
    {
     "data": {
      "text/plain": [
       "array([[  84, 2032, 2098, ..., 4159, 3783, 1514],\n",
       "       [1633,  483, 2398, ..., 3349, 2266,  817],\n",
       "       [ 720, 1419, 1462, ..., 3640, 3149,  964],\n",
       "       ...,\n",
       "       [2782, 2371, 3641, ..., 1461, 2908, 2554],\n",
       "       [2558, 1440, 3302, ..., 3060, 1309, 1773],\n",
       "       [1234,  936, 2062, ..., 3651, 2718,  364]])"
      ]
     },
     "execution_count": 5,
     "metadata": {},
     "output_type": "execute_result"
    }
   ],
   "source": [
    "cost_matrix_A"
   ]
  },
  {
   "cell_type": "code",
   "execution_count": 6,
   "metadata": {},
   "outputs": [],
   "source": [
    "cost_matrix_B = create_cost_matrix(data_B)"
   ]
  },
  {
   "cell_type": "code",
   "execution_count": 7,
   "metadata": {},
   "outputs": [],
   "source": [
    "cost_matrix_C = create_cost_matrix(data_C)"
   ]
  },
  {
   "cell_type": "code",
   "execution_count": 8,
   "metadata": {},
   "outputs": [],
   "source": [
    "cost_matrix_D = create_cost_matrix(data_D)"
   ]
  },
  {
   "cell_type": "code",
   "execution_count": 9,
   "metadata": {},
   "outputs": [],
   "source": [
    "dist_matrix_A = create_dist_matrix(data_A)\n",
    "dist_matrix_B = create_dist_matrix(data_B)\n",
    "dist_matrix_C = create_dist_matrix(data_C)\n",
    "dist_matrix_D = create_dist_matrix(data_D)"
   ]
  },
  {
   "cell_type": "code",
   "execution_count": 10,
   "metadata": {},
   "outputs": [],
   "source": [
    "def plot(data, solution):\n",
    "    data_ordered = np.array([data[i] for i in solution])\n",
    "    all_data = np.array([data[i] for i in range(200)])\n",
    "\n",
    "    plt.figure(figsize=(10, 10), dpi=80)\n",
    "\n",
    "    plt.scatter(data_ordered[:,0], data_ordered[:,1], s=data_ordered[:,2]/data_ordered[:,2].max()*200, c='b')\n",
    "    plt.scatter(all_data[:,0], all_data[:,1], s=all_data[:,2]/all_data[:,2].max()*200, c='b')\n",
    "    plt.plot(data_ordered[:,0], data_ordered[:,1], 'y-')\n",
    "    plt.plot([data_ordered[0,0], data_ordered[-1,0]], [data_ordered[0,1], data_ordered[-1,1]], 'y-')\n",
    "    plt.show()"
   ]
  },
  {
   "cell_type": "code",
   "execution_count": 11,
   "metadata": {},
   "outputs": [],
   "source": [
    "def calculate_performance(cycle, cost_matrix):\n",
    "    total_sum = 0\n",
    "    for i in range(len(cycle)-1):\n",
    "        total_sum += cost_matrix[cycle[i], cycle[i+1]]\n",
    "    total_sum += cost_matrix[cycle[-1], cycle[0]]\n",
    "    return total_sum"
   ]
  },
  {
   "cell_type": "code",
   "execution_count": 12,
   "metadata": {},
   "outputs": [
    {
     "data": {
      "text/plain": [
       "array([ 0,  1,  2,  3,  4,  5,  6,  7,  8,  9, 10, 11, 12, 13, 14, 15, 16,\n",
       "       17, 18, 19, 20, 21, 22, 23, 24, 25, 26, 27, 28, 29, 30, 31, 32, 33,\n",
       "       34, 35, 36, 37, 38, 39, 40, 41, 42, 43, 44, 45, 46, 47, 48, 49, 50,\n",
       "       51, 52, 53, 54, 55, 56, 57, 58, 59, 60, 61, 62, 63, 64, 65, 66, 67,\n",
       "       68, 69, 70, 71, 72, 73, 74, 75, 76, 77, 78, 79, 80, 81, 82, 83, 84,\n",
       "       85, 86, 87, 88, 89, 90, 91, 92, 93, 94, 95, 96, 97, 98, 99])"
      ]
     },
     "execution_count": 12,
     "metadata": {},
     "output_type": "execute_result"
    }
   ],
   "source": [
    "np.arange(0, 100)"
   ]
  },
  {
   "cell_type": "code",
   "execution_count": 13,
   "metadata": {},
   "outputs": [
    {
     "name": "stdout",
     "output_type": "stream",
     "text": [
      "[92 71 84 48  0 87 35 66 89  3 85 26 40 74 55 17 34 90 10 47 39  4 23 60\n",
      " 58 88 54 42 22 68 67 98 33 36 99  2 27 76 44 83 11 63 75 61 72 96 31 32\n",
      " 29 30 62 37 94 97 24 93 46 70 41 25  7 77  1 16 82 51 21 53  6 52 14 69\n",
      " 57 81 28 95 73 80 19 20 59 79 56 13 43  9 65 18 38 78 15 12  8 64 86 50\n",
      " 45  5 49 91]\n"
     ]
    }
   ],
   "source": [
    "@jit()\n",
    "def random_solution(cost_matrix, limit=100):\n",
    "    random_solution_list = np.arange(0, 100)\n",
    "    np.random.shuffle(random_solution_list)\n",
    "    return random_solution_list[:limit]\n",
    "\n",
    "solution = random_solution(cost_matrix_A, 100)\n",
    "print(solution)"
   ]
  },
  {
   "cell_type": "code",
   "execution_count": 14,
   "metadata": {},
   "outputs": [],
   "source": [
    "# %%timeit\n",
    "# random_solution(cost_matrix_A)"
   ]
  },
  {
   "cell_type": "code",
   "execution_count": 15,
   "metadata": {},
   "outputs": [],
   "source": [
    "@jit()\n",
    "def greedy_cycle(cost_matrix, current_id, limit=100):\n",
    "    all_ids = set(list(range(0,len(cost_matrix))))\n",
    "    all_ids.remove(current_id)\n",
    "    solution = [current_id]\n",
    "    \n",
    "    for _ in range(1):\n",
    "        min_val = 99999\n",
    "        min_id = -1\n",
    "        for next_id in all_ids:\n",
    "            if cost_matrix[current_id][next_id] < min_val:\n",
    "                min_val = cost_matrix[current_id][next_id]\n",
    "                min_id = next_id\n",
    "        solution.append(min_id)\n",
    "        all_ids.remove(min_id)\n",
    "        current_id = min_id\n",
    "    \n",
    "    while len(solution) < limit:\n",
    "        min_delta = 99999\n",
    "        min_id = -1\n",
    "        insert_id = -1\n",
    "        for i in range(len(solution)-1):\n",
    "            for next_id in all_ids:\n",
    "                delta = cost_matrix[solution[i]][next_id] + cost_matrix[next_id][solution[i+1]] - cost_matrix[solution[i]][solution[i+1]]\n",
    "                if delta < min_delta:\n",
    "                    min_delta = delta\n",
    "                    min_id = next_id\n",
    "                    insert_id = i\n",
    "        for next_id in all_ids:\n",
    "            delta = cost_matrix[solution[-1]][next_id] + cost_matrix[next_id][solution[0]] - cost_matrix[solution[-1]][solution[0]]\n",
    "            if delta < min_delta:\n",
    "                min_delta = delta\n",
    "                min_id = next_id\n",
    "                insert_id = i\n",
    "        solution.insert(insert_id+1, min_id)\n",
    "        all_ids.remove(min_id)\n",
    "\n",
    "    return np.array(solution)"
   ]
  },
  {
   "cell_type": "code",
   "execution_count": 16,
   "metadata": {},
   "outputs": [
    {
     "data": {
      "text/plain": [
       "77328"
      ]
     },
     "execution_count": 16,
     "metadata": {},
     "output_type": "execute_result"
    }
   ],
   "source": [
    "calculate_performance(greedy_cycle(cost_matrix_A, 2), cost_matrix_A)"
   ]
  },
  {
   "cell_type": "code",
   "execution_count": 17,
   "metadata": {},
   "outputs": [],
   "source": [
    "# %%timeit\n",
    "# greedy_cycle(cost_matrix_A, 0)"
   ]
  },
  {
   "cell_type": "code",
   "execution_count": null,
   "metadata": {},
   "outputs": [],
   "source": []
  },
  {
   "cell_type": "code",
   "execution_count": 18,
   "metadata": {},
   "outputs": [],
   "source": [
    "@jit()\n",
    "def calculate_closest_neighbours(cost_matrix, n_neighbours=10):\n",
    "    def extract_nodes(ll):\n",
    "        return [x[1] for x in ll]\n",
    "    \n",
    "    diag_matrix = np.diag(range(len(cost_matrix))).astype(float)\n",
    "    np.fill_diagonal(diag_matrix, np.inf)\n",
    "    \n",
    "    new_cost_matrix = cost_matrix + diag_matrix\n",
    "\n",
    "    closest_neighbours = dict()\n",
    "    for i in range(len(new_cost_matrix)):\n",
    "        closest_neighbours[i] = extract_nodes(sorted(zip(new_cost_matrix[i], range(len(new_cost_matrix))), key=lambda x: x[0])[:n_neighbours])\n",
    "    return closest_neighbours"
   ]
  },
  {
   "cell_type": "code",
   "execution_count": 19,
   "metadata": {},
   "outputs": [],
   "source": [
    "jit(nopython=True)\n",
    "def calculate_closest_neighbours_solution(cost_matrix, solution, n_neighbours=10):\n",
    "    def extract_nodes(ll):\n",
    "        return [solution[x[1]] for x in ll]\n",
    "    \n",
    "    diag_matrix = np.diag(range(len(cost_matrix))).astype(float)\n",
    "    np.fill_diagonal(diag_matrix, np.inf)\n",
    "    \n",
    "    new_cost_matrix = cost_matrix[solution, :][:, solution] + diag_matrix[solution, :][:, solution]\n",
    "\n",
    "    closest_neighbours = dict()\n",
    "    for i in range(len(new_cost_matrix)):\n",
    "        closest_neighbours[solution[i]] = extract_nodes(sorted(zip(new_cost_matrix[i], range(len(new_cost_matrix))), key=lambda x: x[0])[:n_neighbours])\n",
    "    return closest_neighbours"
   ]
  },
  {
   "cell_type": "code",
   "execution_count": 20,
   "metadata": {},
   "outputs": [],
   "source": [
    "pre = calculate_closest_neighbours_solution(cost_matrix_A, list(range(100)))"
   ]
  },
  {
   "cell_type": "code",
   "execution_count": 21,
   "metadata": {},
   "outputs": [],
   "source": [
    "solution = list(range(15)) + list(range(100, 115))"
   ]
  },
  {
   "cell_type": "code",
   "execution_count": 22,
   "metadata": {},
   "outputs": [],
   "source": [
    "# %%timeit\n",
    "# calculate_closest_neighbours_solution(cost_matrix_A, solution)"
   ]
  },
  {
   "cell_type": "code",
   "execution_count": 23,
   "metadata": {},
   "outputs": [],
   "source": [
    "def calculate_change_before(enhanced_solution, cost_matrix, position_1, position_2):\n",
    "    return (cost_matrix[enhanced_solution[position_1], enhanced_solution[position_2]] + cost_matrix[enhanced_solution[position_1-1], enhanced_solution[position_2-1]] -\n",
    "            ( cost_matrix[enhanced_solution[position_1-1], enhanced_solution[position_1]] + cost_matrix[enhanced_solution[position_2-1], enhanced_solution[position_2]] )\n",
    "            )\n",
    "\n",
    "def calculate_change_after(enhanced_solution, cost_matrix, position_1, position_2):\n",
    "    return (cost_matrix[enhanced_solution[position_1], enhanced_solution[position_2]] + cost_matrix[enhanced_solution[(position_1+1)%len(enhanced_solution)], enhanced_solution[(position_2+1)%len(enhanced_solution)]] -\n",
    "            ( cost_matrix[enhanced_solution[position_1], enhanced_solution[(position_1+1)%len(enhanced_solution)]] + cost_matrix[enhanced_solution[position_2], enhanced_solution[(position_2+1)%len(enhanced_solution)]] )\n",
    "            )"
   ]
  },
  {
   "cell_type": "code",
   "execution_count": 24,
   "metadata": {},
   "outputs": [],
   "source": [
    "import time"
   ]
  },
  {
   "cell_type": "code",
   "execution_count": 29,
   "metadata": {},
   "outputs": [],
   "source": [
    "# @jit()\n",
    "def enhance_solution(initial_solution, closest_neighbours, cost_matrix):\n",
    "\n",
    "    enhanced_solution = list(initial_solution)\n",
    "    previous_solution = 0\n",
    "    current_solution = calculate_performance(initial_solution, cost_matrix)\n",
    "    total_time = 0\n",
    "    while True:\n",
    "        previous_solution = current_solution\n",
    "        best_delta = 0                  # e.g. -10\n",
    "        best_edges_positions = None     # e.g. [1, 10]\n",
    "        best_type = None                # before or after\n",
    "        neighbours_positions = {node: enhanced_solution.index(node) for node in enhanced_solution}\n",
    "        for position in range(len(initial_solution)):\n",
    "            for neighbour in closest_neighbours[enhanced_solution[position]]:\n",
    "                start = time.time()\n",
    "                position_neighbour = neighbours_positions[neighbour]\n",
    "                end = time.time()\n",
    "                total_time += end - start \n",
    "                if abs(position - position_neighbour) == 1: continue\n",
    "                    \n",
    "                \n",
    "                for swap_type in ('before', 'after'):\n",
    "                    \n",
    "                    if swap_type == 'before':\n",
    "                        delta = calculate_change_before(enhanced_solution, cost_matrix, position_1=position, position_2=position_neighbour)\n",
    "                        \n",
    "                    elif swap_type == 'after':\n",
    "                        delta = calculate_change_after(enhanced_solution, cost_matrix, position_1=position, position_2=position_neighbour)\n",
    "                    \n",
    "                    if delta < best_delta:\n",
    "                        best_delta = delta\n",
    "                        best_edges_positions = [position, position_neighbour]\n",
    "                        best_type = swap_type\n",
    "        \n",
    "                \n",
    "                \n",
    "\n",
    "        \n",
    "                        \n",
    "        \n",
    "        # break\n",
    "        if best_delta == 0:\n",
    "            return enhanced_solution, total_time\n",
    "        else:\n",
    "            if best_type == 'before':\n",
    "                if best_edges_positions[0] < best_edges_positions[1]:\n",
    "                    enhanced_solution = enhanced_solution[:best_edges_positions[0]] + enhanced_solution[best_edges_positions[0]:best_edges_positions[1]][::-1] + enhanced_solution[best_edges_positions[1]:]\n",
    "                else:\n",
    "                    enhanced_solution = enhanced_solution[best_edges_positions[1]:best_edges_positions[0]] + list(enhanced_solution[best_edges_positions[0]:] + enhanced_solution[:best_edges_positions[1]])[::-1]\n",
    "            elif best_type == 'after':\n",
    "                if best_edges_positions[0] < best_edges_positions[1]:\n",
    "                    enhanced_solution = enhanced_solution[:(best_edges_positions[0]+1)%len(enhanced_solution)] + enhanced_solution[(best_edges_positions[0]+1)%len(enhanced_solution):(best_edges_positions[1]+1)][::-1] + enhanced_solution[(best_edges_positions[1]+1):]\n",
    "                else:\n",
    "                    enhanced_solution = enhanced_solution[best_edges_positions[1]+1:best_edges_positions[0]+1] + list(enhanced_solution[(best_edges_positions[0]+1):] + enhanced_solution[:best_edges_positions[1]+1])[::-1]\n",
    "                    \n",
    "\n",
    "            \n",
    "                \n",
    "        current_solution = calculate_performance(enhanced_solution, cost_matrix)\n",
    "        assert current_solution < previous_solution\n",
    "        \n",
    "    return 0, 1\n"
   ]
  },
  {
   "cell_type": "code",
   "execution_count": 30,
   "metadata": {},
   "outputs": [],
   "source": [
    "from tqdm import tqdm"
   ]
  },
  {
   "cell_type": "code",
   "execution_count": 31,
   "metadata": {},
   "outputs": [],
   "source": [
    "def start_enhancement(starting_solution_type: str, cost_matrix, distance_matrix):\n",
    "    total_costs = []\n",
    "    total_cost_random = 0\n",
    "    total_time = 0\n",
    "    for i in tqdm(range(len(distance_matrix))):\n",
    "        # print(i)\n",
    "        if starting_solution_type == 'greedy':\n",
    "            initial_solution = greedy_cycle(cost_matrix, i, limit=100)\n",
    "        elif starting_solution_type == 'random':\n",
    "            initial_solution = random_solution(cost_matrix, limit=100)\n",
    "        else:\n",
    "            return 'Bad type'\n",
    "        initial_cost = calculate_performance(initial_solution, cost_matrix)\n",
    "        total_cost_random += initial_cost\n",
    "\n",
    "        closest_neighbours = calculate_closest_neighbours_solution(distance_matrix, initial_solution, n_neighbours=10)\n",
    "        enhanced_solution, time_spent = enhance_solution(initial_solution, closest_neighbours, distance_matrix)\n",
    "        total_costs.append(calculate_performance(enhanced_solution, cost_matrix))\n",
    "        total_time += time_spent\n",
    "    total_costs = np.array(total_costs)\n",
    "    return (total_costs.mean(), total_costs.min(), total_costs.max()) #, total_cost_random / len(cost_matrix), total_time, total_time / len(cost_matrix)\n",
    "        \n",
    "        \n",
    "\n",
    "        \n"
   ]
  },
  {
   "cell_type": "code",
   "execution_count": 32,
   "metadata": {},
   "outputs": [
    {
     "name": "stderr",
     "output_type": "stream",
     "text": [
      "100%|██████████| 200/200 [00:41<00:00,  4.84it/s]\n"
     ]
    },
    {
     "data": {
      "text/plain": [
       "(73774.225, 72647, 74991)"
      ]
     },
     "execution_count": 32,
     "metadata": {},
     "output_type": "execute_result"
    }
   ],
   "source": [
    "start_enhancement('random', cost_matrix=cost_matrix_C, distance_matrix=dist_matrix_C)"
   ]
  },
  {
   "cell_type": "code",
   "execution_count": 50,
   "metadata": {},
   "outputs": [
    {
     "name": "stderr",
     "output_type": "stream",
     "text": [
      "100%|██████████| 200/200 [00:55<00:00,  3.61it/s]\n"
     ]
    },
    {
     "data": {
      "text/plain": [
       "(75083.995, 218860.99, 0.04975008964538574, 0.0002487504482269287)"
      ]
     },
     "execution_count": 50,
     "metadata": {},
     "output_type": "execute_result"
    }
   ],
   "source": [
    "start_enhancement('random', cost_matrix=cost_matrix_D, distance_matrix=dist_matrix_D)"
   ]
  },
  {
   "cell_type": "code",
   "execution_count": null,
   "metadata": {},
   "outputs": [],
   "source": []
  }
 ],
 "metadata": {
  "kernelspec": {
   "display_name": "Python 3.9.7 ('base')",
   "language": "python",
   "name": "python3"
  },
  "language_info": {
   "codemirror_mode": {
    "name": "ipython",
    "version": 3
   },
   "file_extension": ".py",
   "mimetype": "text/x-python",
   "name": "python",
   "nbconvert_exporter": "python",
   "pygments_lexer": "ipython3",
   "version": "3.9.7"
  },
  "orig_nbformat": 4,
  "vscode": {
   "interpreter": {
    "hash": "40ff2f3c5fda09d612a4e997a2c110ac691c818ee9e0c88cff16f765d02f300a"
   }
  }
 },
 "nbformat": 4,
 "nbformat_minor": 2
}

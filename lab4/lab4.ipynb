{
 "cells": [
  {
   "cell_type": "code",
   "execution_count": 1,
   "metadata": {},
   "outputs": [],
   "source": [
    "import numpy as np\n",
    "import pandas as pd\n",
    "import random\n",
    "from matplotlib import pyplot as plt\n",
    "from numba import jit\n",
    "from tqdm import tqdm\n",
    "from itertools import combinations, permutations\n",
    "import time"
   ]
  },
  {
   "cell_type": "code",
   "execution_count": 2,
   "metadata": {},
   "outputs": [],
   "source": [
    "data_A = np.loadtxt('../data/TSPA.csv', delimiter=';').astype(np.int64)\n",
    "data_B = np.loadtxt('../data/TSPB.csv', delimiter=';').astype(np.int64)\n",
    "data_C = np.loadtxt('../data/TSPC.csv', delimiter=';').astype(np.int64)\n",
    "data_D = np.loadtxt('../data/TSPD.csv', delimiter=';').astype(np.int64)"
   ]
  },
  {
   "cell_type": "code",
   "execution_count": 3,
   "metadata": {},
   "outputs": [],
   "source": [
    "def create_cost_matrix(data):\n",
    "    x = data[:, :1]\n",
    "    y = data[:, 1:2]\n",
    "    cost = data[:, 2:3]\n",
    "    return (((x - x.reshape(1, -1))**2 + (y - y.reshape(1, -1))**2) ** (1/2) + cost.reshape(1, -1)).round().astype(np.int64)\n",
    "\n",
    "def create_dist_matrix(data):\n",
    "    x = data[:, :1]\n",
    "    y = data[:, 1:2]\n",
    "    #cost = data[:, 2:3]\n",
    "    return (((x - x.reshape(1, -1))**2 + (y - y.reshape(1, -1))**2) ** (1/2)).round().astype(np.int64)"
   ]
  },
  {
   "cell_type": "code",
   "execution_count": 4,
   "metadata": {},
   "outputs": [],
   "source": [
    "cost_matrix_A = create_cost_matrix(data_A)"
   ]
  },
  {
   "cell_type": "code",
   "execution_count": 5,
   "metadata": {},
   "outputs": [
    {
     "data": {
      "text/plain": [
       "array([[  84, 2032, 2098, ..., 4159, 3783, 1514],\n",
       "       [1633,  483, 2398, ..., 3349, 2266,  817],\n",
       "       [ 720, 1419, 1462, ..., 3640, 3149,  964],\n",
       "       ...,\n",
       "       [2782, 2371, 3641, ..., 1461, 2908, 2554],\n",
       "       [2558, 1440, 3302, ..., 3060, 1309, 1773],\n",
       "       [1234,  936, 2062, ..., 3651, 2718,  364]])"
      ]
     },
     "execution_count": 5,
     "metadata": {},
     "output_type": "execute_result"
    }
   ],
   "source": [
    "cost_matrix_A"
   ]
  },
  {
   "cell_type": "code",
   "execution_count": 6,
   "metadata": {},
   "outputs": [],
   "source": [
    "cost_matrix_B = create_cost_matrix(data_B)"
   ]
  },
  {
   "cell_type": "code",
   "execution_count": 7,
   "metadata": {},
   "outputs": [],
   "source": [
    "cost_matrix_C = create_cost_matrix(data_C)"
   ]
  },
  {
   "cell_type": "code",
   "execution_count": 8,
   "metadata": {},
   "outputs": [],
   "source": [
    "cost_matrix_D = create_cost_matrix(data_D)"
   ]
  },
  {
   "cell_type": "code",
   "execution_count": 9,
   "metadata": {},
   "outputs": [],
   "source": [
    "dist_matrix_A = create_dist_matrix(data_A)\n",
    "dist_matrix_B = create_dist_matrix(data_B)\n",
    "dist_matrix_C = create_dist_matrix(data_C)\n",
    "dist_matrix_D = create_dist_matrix(data_D)"
   ]
  },
  {
   "cell_type": "code",
   "execution_count": 10,
   "metadata": {},
   "outputs": [],
   "source": [
    "def plot(data, solution):\n",
    "    data_ordered = np.array([data[i] for i in solution])\n",
    "    all_data = np.array([data[i] for i in range(200)])\n",
    "\n",
    "    plt.figure(figsize=(10, 10), dpi=80)\n",
    "\n",
    "    plt.scatter(data_ordered[:,0], data_ordered[:,1], s=data_ordered[:,2]/data_ordered[:,2].max()*200, c='b')\n",
    "    plt.scatter(all_data[:,0], all_data[:,1], s=all_data[:,2]/all_data[:,2].max()*200, c='b')\n",
    "    plt.plot(data_ordered[:,0], data_ordered[:,1], 'y-')\n",
    "    plt.plot([data_ordered[0,0], data_ordered[-1,0]], [data_ordered[0,1], data_ordered[-1,1]], 'y-')\n",
    "    plt.show()"
   ]
  },
  {
   "cell_type": "code",
   "execution_count": 11,
   "metadata": {},
   "outputs": [],
   "source": [
    "def calculate_performance(cycle, cost_matrix):\n",
    "    total_sum = 0\n",
    "    for i in range(len(cycle)-1):\n",
    "        total_sum += cost_matrix[cycle[i], cycle[i+1]]\n",
    "    total_sum += cost_matrix[cycle[-1], cycle[0]]\n",
    "    return total_sum"
   ]
  },
  {
   "cell_type": "code",
   "execution_count": 12,
   "metadata": {},
   "outputs": [
    {
     "data": {
      "text/plain": [
       "array([ 0,  1,  2,  3,  4,  5,  6,  7,  8,  9, 10, 11, 12, 13, 14, 15, 16,\n",
       "       17, 18, 19, 20, 21, 22, 23, 24, 25, 26, 27, 28, 29, 30, 31, 32, 33,\n",
       "       34, 35, 36, 37, 38, 39, 40, 41, 42, 43, 44, 45, 46, 47, 48, 49, 50,\n",
       "       51, 52, 53, 54, 55, 56, 57, 58, 59, 60, 61, 62, 63, 64, 65, 66, 67,\n",
       "       68, 69, 70, 71, 72, 73, 74, 75, 76, 77, 78, 79, 80, 81, 82, 83, 84,\n",
       "       85, 86, 87, 88, 89, 90, 91, 92, 93, 94, 95, 96, 97, 98, 99])"
      ]
     },
     "execution_count": 12,
     "metadata": {},
     "output_type": "execute_result"
    }
   ],
   "source": [
    "np.arange(0, 100)"
   ]
  },
  {
   "cell_type": "code",
   "execution_count": 13,
   "metadata": {},
   "outputs": [
    {
     "name": "stdout",
     "output_type": "stream",
     "text": [
      "[ 8 27 93 88 58 59 63 36 40 85 55 94 47 42 75 72 82 22 84 41 81  5 67 79\n",
      "  9 49 14 56 17 44 48 21 11 50 19 78 46 33 90 18 76 87 34 97 95 86 10 31\n",
      " 73 24 32 83 53 15  7 64  6 38 71 26 61 28 68 62  3  4 30 66 35 80 37 16\n",
      "  1 23 92 99 96 45 51 43 57 89 98 70 69 29 12 52 91  0 25 54 39 77 74 60\n",
      " 65  2 13 20]\n"
     ]
    }
   ],
   "source": [
    "@jit()\n",
    "def random_solution(cost_matrix, limit=100):\n",
    "    random_solution_list = np.arange(0, 100)\n",
    "    np.random.shuffle(random_solution_list)\n",
    "    return random_solution_list[:limit]\n",
    "\n",
    "solution = random_solution(cost_matrix_A, 100)\n",
    "print(solution)"
   ]
  },
  {
   "cell_type": "code",
   "execution_count": 14,
   "metadata": {},
   "outputs": [],
   "source": [
    "# %%timeit\n",
    "# random_solution(cost_matrix_A)"
   ]
  },
  {
   "cell_type": "code",
   "execution_count": 15,
   "metadata": {},
   "outputs": [],
   "source": [
    "@jit()\n",
    "def greedy_cycle(cost_matrix, current_id, limit=100):\n",
    "    all_ids = set(list(range(0,len(cost_matrix))))\n",
    "    all_ids.remove(current_id)\n",
    "    solution = [current_id]\n",
    "    \n",
    "    for _ in range(1):\n",
    "        min_val = 99999\n",
    "        min_id = -1\n",
    "        for next_id in all_ids:\n",
    "            if cost_matrix[current_id][next_id] < min_val:\n",
    "                min_val = cost_matrix[current_id][next_id]\n",
    "                min_id = next_id\n",
    "        solution.append(min_id)\n",
    "        all_ids.remove(min_id)\n",
    "        current_id = min_id\n",
    "    \n",
    "    while len(solution) < limit:\n",
    "        min_delta = 99999\n",
    "        min_id = -1\n",
    "        insert_id = -1\n",
    "        for i in range(len(solution)-1):\n",
    "            for next_id in all_ids:\n",
    "                delta = cost_matrix[solution[i]][next_id] + cost_matrix[next_id][solution[i+1]] - cost_matrix[solution[i]][solution[i+1]]\n",
    "                if delta < min_delta:\n",
    "                    min_delta = delta\n",
    "                    min_id = next_id\n",
    "                    insert_id = i\n",
    "        for next_id in all_ids:\n",
    "            delta = cost_matrix[solution[-1]][next_id] + cost_matrix[next_id][solution[0]] - cost_matrix[solution[-1]][solution[0]]\n",
    "            if delta < min_delta:\n",
    "                min_delta = delta\n",
    "                min_id = next_id\n",
    "                insert_id = i\n",
    "        solution.insert(insert_id+1, min_id)\n",
    "        all_ids.remove(min_id)\n",
    "\n",
    "    return np.array(solution)"
   ]
  },
  {
   "cell_type": "code",
   "execution_count": 16,
   "metadata": {},
   "outputs": [
    {
     "data": {
      "text/plain": [
       "77328"
      ]
     },
     "execution_count": 16,
     "metadata": {},
     "output_type": "execute_result"
    }
   ],
   "source": [
    "calculate_performance(greedy_cycle(cost_matrix_A, 2), cost_matrix_A)"
   ]
  },
  {
   "cell_type": "code",
   "execution_count": 17,
   "metadata": {},
   "outputs": [],
   "source": [
    "# %%timeit\n",
    "# greedy_cycle(cost_matrix_A, 0)"
   ]
  },
  {
   "cell_type": "code",
   "execution_count": null,
   "metadata": {},
   "outputs": [],
   "source": []
  },
  {
   "cell_type": "code",
   "execution_count": 18,
   "metadata": {},
   "outputs": [],
   "source": [
    "# @jit()\n",
    "def calculate_closest_neighbours(cost_matrix, n_neighbours=10):\n",
    "    def extract_nodes(ll):\n",
    "        return [x[1] for x in ll]\n",
    "    \n",
    "    diag_matrix = np.diag(range(len(cost_matrix))).astype(float)\n",
    "    np.fill_diagonal(diag_matrix, np.inf)\n",
    "    \n",
    "    new_cost_matrix = cost_matrix + diag_matrix\n",
    "\n",
    "    closest_neighbours = dict()\n",
    "    for i in range(len(new_cost_matrix)):\n",
    "        closest_neighbours[i] = extract_nodes(sorted(zip(new_cost_matrix[i], range(len(new_cost_matrix))), key=lambda x: x[0])[:n_neighbours])\n",
    "    return closest_neighbours"
   ]
  },
  {
   "cell_type": "code",
   "execution_count": 19,
   "metadata": {},
   "outputs": [],
   "source": [
    "\n",
    "def calculate_closest_neighbours_solution(cost_matrix, solution, n_neighbours=10):\n",
    "    def extract_nodes(ll):\n",
    "        return [solution[x[1]] for x in ll]\n",
    "    \n",
    "    diag_matrix = np.diag(range(len(cost_matrix))).astype(float)\n",
    "    np.fill_diagonal(diag_matrix, np.inf)\n",
    "    \n",
    "    new_cost_matrix = cost_matrix[solution, :][:, solution] + diag_matrix[solution, :][:, solution]\n",
    "\n",
    "    closest_neighbours = dict()\n",
    "    for i in range(len(new_cost_matrix)):\n",
    "        closest_neighbours[solution[i]] = extract_nodes(sorted(zip(new_cost_matrix[i], range(len(new_cost_matrix))), key=lambda x: x[0])[:n_neighbours])\n",
    "    return closest_neighbours"
   ]
  },
  {
   "cell_type": "code",
   "execution_count": 20,
   "metadata": {},
   "outputs": [],
   "source": [
    "solution = list(range(15)) + list(range(100, 115))"
   ]
  },
  {
   "cell_type": "code",
   "execution_count": 21,
   "metadata": {},
   "outputs": [],
   "source": [
    "# %%timeit\n",
    "# calculate_closest_neighbours_solution(cost_matrix_A, solution)"
   ]
  },
  {
   "cell_type": "code",
   "execution_count": 22,
   "metadata": {},
   "outputs": [],
   "source": [
    "# @jit()\n",
    "def calculate_change_before(enhanced_solution, cost_matrix, position_1, position_2):\n",
    "    return (cost_matrix[enhanced_solution[position_1], enhanced_solution[position_2]] + cost_matrix[enhanced_solution[position_1-1], enhanced_solution[position_2-1]] -\n",
    "            ( cost_matrix[enhanced_solution[position_1-1], enhanced_solution[position_1]] + cost_matrix[enhanced_solution[position_2-1], enhanced_solution[position_2]] )\n",
    "            )\n",
    "\n",
    "def calculate_change_after(enhanced_solution, cost_matrix, position_1, position_2):\n",
    "    return (cost_matrix[enhanced_solution[position_1], enhanced_solution[position_2]] + cost_matrix[enhanced_solution[(position_1+1)%len(enhanced_solution)], enhanced_solution[(position_2+1)%len(enhanced_solution)]] -\n",
    "            ( cost_matrix[enhanced_solution[position_1], enhanced_solution[(position_1+1)%len(enhanced_solution)]] + cost_matrix[enhanced_solution[position_2], enhanced_solution[(position_2+1)%len(enhanced_solution)]] )\n",
    "            )"
   ]
  },
  {
   "cell_type": "code",
   "execution_count": 23,
   "metadata": {},
   "outputs": [],
   "source": [
    "import time"
   ]
  },
  {
   "cell_type": "code",
   "execution_count": 51,
   "metadata": {},
   "outputs": [],
   "source": [
    "# @jit()\n",
    "def enhance_solution(initial_solution, closest_neighbours, cost_matrix):\n",
    "\n",
    "    enhanced_solution = list(initial_solution)\n",
    "    previous_solution = 0\n",
    "    current_solution = calculate_performance(initial_solution, cost_matrix)\n",
    "    total_time = 0\n",
    "    while True:\n",
    "        start = time.time()\n",
    "        previous_solution = current_solution\n",
    "        best_delta = 0                  # e.g. -10\n",
    "        best_edges_positions = None     # e.g. [1, 10]\n",
    "        best_type = None                # before or after\n",
    "        for position in range(len(initial_solution)):\n",
    "            for neighbour in closest_neighbours[enhanced_solution[position]]:\n",
    "                position_neighbour = enhanced_solution.index(neighbour)\n",
    "                if abs(position - position_neighbour) == 1: continue\n",
    "                    \n",
    "                \n",
    "                for swap_type in ('before', 'after'):\n",
    "                    if swap_type == 'before':\n",
    "                        delta = calculate_change_before(enhanced_solution, cost_matrix, position_1=position, position_2=position_neighbour)\n",
    "                        \n",
    "                    elif swap_type == 'after':\n",
    "                        delta = calculate_change_after(enhanced_solution, cost_matrix, position_1=position, position_2=position_neighbour)\n",
    "                        \n",
    "                    \n",
    "                    if delta < best_delta:\n",
    "                        best_delta = delta\n",
    "                        best_edges_positions = [position, position_neighbour]\n",
    "                        best_type = swap_type\n",
    "                \n",
    "                \n",
    "\n",
    "        end = time.time()\n",
    "        total_time += end - start     \n",
    "                        \n",
    "        \n",
    "        # break\n",
    "        if best_delta == 0:\n",
    "            return enhanced_solution, total_time\n",
    "        else:\n",
    "            \n",
    "            if best_type == 'before':\n",
    "                if best_edges_positions[0] < best_edges_positions[1]:\n",
    "                    enhanced_solution = enhanced_solution[:best_edges_positions[0]] + enhanced_solution[best_edges_positions[0]:best_edges_positions[1]][::-1] + enhanced_solution[best_edges_positions[1]:]\n",
    "                else:\n",
    "                    enhanced_solution = enhanced_solution[best_edges_positions[1]:best_edges_positions[0]] + list(enhanced_solution[best_edges_positions[0]:] + enhanced_solution[:best_edges_positions[1]])[::-1]\n",
    "            elif best_type == 'after':\n",
    "                if best_edges_positions[0] < best_edges_positions[1]:\n",
    "                    # print(enhanced_solution)\n",
    "                    enhanced_solution = enhanced_solution[:(best_edges_positions[0]+1)%len(enhanced_solution)] + enhanced_solution[(best_edges_positions[0]+1)%len(enhanced_solution):(best_edges_positions[1]+1)][::-1] + enhanced_solution[(best_edges_positions[1]+1):]\n",
    "                    # print('-------------------------')\n",
    "                    # print(enhanced_solution, best_edges_positions, calculate_performance(enhanced_solution, cost_matrix) - previous_solution, best_delta)\n",
    "                    # print('\\n')\n",
    "                    # print(\"XDASDQWEDASD\")\n",
    "                else:\n",
    "                    # print(enhanced_solution)\n",
    "                    enhanced_solution = enhanced_solution[best_edges_positions[1]+1:best_edges_positions[0]+1] + list(enhanced_solution[(best_edges_positions[0]+1):] + enhanced_solution[:best_edges_positions[1]+1])[::-1]\n",
    "                    # print('-------------------------')\n",
    "                    # print(enhanced_solution, best_edges_positions, calculate_performance(enhanced_solution, cost_matrix) - previous_solution, best_delta)\n",
    "                    # print('\\n')\n",
    "                    # enhanced_solution[:(best_edges_positions[0]+1)%len(enhanced_solution)] + enhanced_solution[(best_edges_positions[0]+1)%len(enhanced_solution):(best_edges_positions[1]+1)][::-1] + enhanced_solution[(best_edges_positions[1]+1):]\n",
    "                    \n",
    "                    # time.sleep(15)\n",
    "                # print('WTF')\n",
    "                # if best_edges_positions[0] < best_edges_positions[1]:\n",
    "                    \n",
    "                #     \n",
    "                # else:\n",
    "\n",
    "            \n",
    "                \n",
    "        current_solution = calculate_performance(enhanced_solution, cost_matrix)\n",
    "        assert current_solution < previous_solution\n",
    "        \n",
    "    return 0, 1\n"
   ]
  },
  {
   "cell_type": "code",
   "execution_count": 52,
   "metadata": {},
   "outputs": [],
   "source": [
    "from tqdm import tqdm"
   ]
  },
  {
   "cell_type": "code",
   "execution_count": 55,
   "metadata": {},
   "outputs": [],
   "source": [
    "def start_enhancement(starting_solution_type: str, cost_matrix, distance_matrix):\n",
    "    total_cost = 0\n",
    "    total_cost_random = 0\n",
    "    total_time = 0\n",
    "    for i in tqdm(range(len(distance_matrix))):\n",
    "        # print(i)\n",
    "        if starting_solution_type == 'greedy':\n",
    "            initial_solution = greedy_cycle(cost_matrix, i, limit=100)\n",
    "        elif starting_solution_type == 'random':\n",
    "            initial_solution = random_solution(cost_matrix, limit=100)\n",
    "        else:\n",
    "            return 'Bad type'\n",
    "        initial_cost = calculate_performance(initial_solution, cost_matrix)\n",
    "        total_cost_random += initial_cost\n",
    "\n",
    "        closest_neighbours = calculate_closest_neighbours_solution(distance_matrix, initial_solution, n_neighbours=10)\n",
    "        return closest_neighbours\n",
    "        # enhanced_solution, time_spent = enhance_solution(initial_solution, closest_neighbours, distance_matrix)\n",
    "        # total_cost += calculate_performance(enhanced_solution, cost_matrix)\n",
    "        # total_time += time_spent\n",
    "    return total_cost / len(cost_matrix), total_cost_random / len(cost_matrix), total_time, total_time / len(cost_matrix)\n",
    "        \n",
    "        \n",
    "\n",
    "        \n"
   ]
  },
  {
   "cell_type": "code",
   "execution_count": 56,
   "metadata": {},
   "outputs": [
    {
     "name": "stderr",
     "output_type": "stream",
     "text": [
      "  0%|          | 0/200 [00:00<?, ?it/s]\n"
     ]
    },
    {
     "data": {
      "text/plain": [
       "{32: [62, 93, 81, 7, 15, 53, 18, 47, 22, 28],\n",
       " 74: [47, 61, 30, 25, 93, 7, 85, 62, 53, 18],\n",
       " 75: [1, 83, 17, 97, 41, 39, 90, 16, 9, 60],\n",
       " 80: [8, 31, 95, 14, 73, 89, 13, 42, 12, 26],\n",
       " 29: [2, 4, 77, 43, 91, 50, 86, 97, 83, 39],\n",
       " 93: [62, 7, 47, 32, 53, 18, 15, 74, 22, 30],\n",
       " 60: [9, 17, 99, 83, 97, 90, 75, 45, 88, 51],\n",
       " 28: [15, 22, 18, 53, 55, 54, 30, 21, 47, 62],\n",
       " 68: [66, 24, 98, 6, 78, 45, 5, 72, 51, 67],\n",
       " 1: [41, 75, 39, 97, 83, 17, 16, 11, 90, 92],\n",
       " 83: [97, 17, 75, 39, 9, 60, 1, 41, 29, 90],\n",
       " 90: [99, 17, 9, 60, 33, 75, 51, 83, 92, 26],\n",
       " 65: [3, 40, 34, 58, 84, 37, 49, 0, 38, 36],\n",
       " 85: [25, 57, 23, 10, 37, 84, 64, 82, 36, 74],\n",
       " 30: [55, 22, 47, 18, 53, 54, 36, 74, 15, 28],\n",
       " 64: [56, 82, 20, 71, 25, 57, 85, 46, 61, 23],\n",
       " 35: [86, 69, 19, 50, 0, 43, 38, 58, 49, 91],\n",
       " 77: [4, 2, 29, 43, 50, 86, 91, 35, 69, 38],\n",
       " 18: [53, 22, 15, 28, 55, 47, 30, 62, 93, 54],\n",
       " 76: [49, 91, 54, 38, 0, 50, 55, 28, 69, 36],\n",
       " 6: [66, 98, 68, 24, 72, 78, 67, 87, 45, 94],\n",
       " 46: [63, 82, 70, 96, 59, 57, 23, 64, 27, 37],\n",
       " 50: [86, 91, 43, 69, 38, 35, 77, 0, 4, 2],\n",
       " 67: [87, 79, 24, 44, 21, 78, 45, 88, 81, 68],\n",
       " 58: [65, 3, 19, 40, 0, 69, 38, 34, 49, 35],\n",
       " 23: [57, 37, 85, 10, 84, 25, 82, 46, 63, 59],\n",
       " 84: [37, 40, 10, 23, 3, 65, 34, 57, 36, 85],\n",
       " 61: [71, 56, 74, 20, 25, 64, 85, 57, 47, 82],\n",
       " 26: [13, 52, 33, 92, 8, 48, 16, 90, 95, 11],\n",
       " 37: [84, 23, 10, 57, 40, 34, 3, 59, 65, 85],\n",
       " 48: [92, 16, 11, 52, 33, 26, 13, 90, 1, 75],\n",
       " 59: [63, 96, 70, 46, 37, 34, 23, 27, 84, 82],\n",
       " 97: [83, 17, 39, 75, 9, 60, 1, 41, 29, 2],\n",
       " 27: [70, 96, 63, 46, 59, 82, 64, 57, 37, 23],\n",
       " 55: [22, 54, 30, 18, 28, 53, 36, 15, 47, 62],\n",
       " 45: [78, 88, 24, 68, 67, 79, 21, 60, 9, 99],\n",
       " 16: [11, 92, 48, 33, 52, 1, 26, 75, 13, 90],\n",
       " 95: [73, 31, 8, 5, 51, 80, 12, 89, 72, 42],\n",
       " 11: [16, 48, 92, 1, 52, 33, 75, 41, 26, 13],\n",
       " 99: [9, 51, 90, 60, 5, 17, 68, 45, 95, 83],\n",
       " 43: [86, 77, 50, 4, 2, 29, 35, 91, 69, 0],\n",
       " 72: [12, 94, 98, 73, 5, 89, 42, 66, 51, 31],\n",
       " 91: [50, 4, 2, 77, 86, 29, 38, 49, 43, 0],\n",
       " 36: [54, 10, 30, 55, 84, 22, 40, 85, 65, 23],\n",
       " 73: [31, 12, 89, 42, 94, 72, 95, 5, 51, 80],\n",
       " 9: [60, 17, 99, 83, 97, 90, 75, 45, 51, 88],\n",
       " 19: [69, 35, 58, 0, 38, 86, 50, 49, 65, 3],\n",
       " 31: [73, 89, 12, 42, 95, 94, 80, 14, 72, 5],\n",
       " 4: [2, 29, 77, 43, 91, 50, 86, 35, 97, 69],\n",
       " 81: [44, 32, 15, 62, 53, 18, 87, 28, 79, 93],\n",
       " 62: [93, 32, 53, 47, 15, 18, 7, 22, 81, 30],\n",
       " 13: [26, 52, 33, 8, 92, 48, 16, 95, 90, 80],\n",
       " 20: [56, 71, 64, 61, 82, 25, 85, 57, 74, 46],\n",
       " 22: [18, 55, 53, 28, 15, 30, 47, 54, 62, 36],\n",
       " 33: [26, 52, 13, 92, 48, 16, 90, 8, 11, 95],\n",
       " 24: [67, 78, 68, 87, 6, 45, 66, 79, 44, 98],\n",
       " 52: [26, 13, 33, 92, 48, 16, 8, 11, 90, 95],\n",
       " 39: [41, 97, 83, 1, 75, 17, 29, 77, 2, 4],\n",
       " 3: [65, 40, 34, 58, 84, 37, 0, 10, 49, 19],\n",
       " 2: [4, 29, 77, 91, 43, 50, 86, 97, 83, 35],\n",
       " 88: [45, 78, 21, 79, 76, 67, 91, 60, 9, 24],\n",
       " 51: [5, 99, 95, 72, 73, 68, 90, 12, 31, 9],\n",
       " 86: [50, 43, 35, 69, 77, 91, 0, 38, 4, 19],\n",
       " 89: [42, 12, 94, 73, 31, 72, 14, 95, 5, 98],\n",
       " 15: [18, 53, 28, 22, 62, 55, 47, 81, 93, 32],\n",
       " 5: [51, 72, 73, 95, 99, 12, 68, 31, 98, 89],\n",
       " 66: [98, 6, 68, 72, 24, 78, 5, 94, 12, 45],\n",
       " 56: [20, 71, 64, 61, 82, 25, 85, 57, 46, 74],\n",
       " 79: [21, 67, 87, 44, 28, 81, 78, 24, 15, 88],\n",
       " 92: [48, 16, 52, 33, 26, 11, 13, 90, 75, 1],\n",
       " 38: [0, 49, 69, 50, 58, 35, 19, 86, 91, 76],\n",
       " 54: [55, 36, 22, 30, 28, 18, 76, 53, 15, 47],\n",
       " 34: [3, 40, 65, 84, 37, 58, 59, 23, 10, 19],\n",
       " 10: [23, 85, 84, 57, 36, 37, 25, 40, 30, 65],\n",
       " 57: [23, 85, 25, 10, 37, 82, 84, 46, 64, 63],\n",
       " 17: [83, 97, 9, 60, 75, 90, 39, 1, 99, 41],\n",
       " 70: [96, 63, 46, 27, 59, 82, 37, 23, 57, 64],\n",
       " 8: [80, 95, 13, 26, 33, 52, 31, 73, 51, 92],\n",
       " 49: [38, 0, 69, 76, 58, 50, 91, 65, 19, 35],\n",
       " 14: [31, 42, 80, 89, 73, 12, 94, 95, 8, 72],\n",
       " 44: [87, 81, 67, 79, 21, 24, 15, 32, 28, 78],\n",
       " 47: [53, 30, 18, 93, 62, 22, 74, 15, 55, 7],\n",
       " 7: [93, 62, 32, 47, 74, 53, 18, 15, 30, 22],\n",
       " 40: [65, 3, 34, 84, 58, 37, 10, 36, 23, 49],\n",
       " 21: [79, 67, 28, 87, 44, 15, 88, 81, 78, 18],\n",
       " 69: [0, 38, 35, 19, 86, 50, 49, 58, 91, 43],\n",
       " 94: [12, 89, 42, 72, 73, 31, 98, 5, 14, 95],\n",
       " 87: [67, 44, 79, 24, 21, 81, 78, 45, 6, 15],\n",
       " 53: [18, 15, 22, 47, 62, 28, 55, 30, 93, 32],\n",
       " 0: [38, 69, 49, 58, 19, 50, 35, 86, 91, 65],\n",
       " 25: [85, 57, 23, 10, 64, 61, 74, 82, 56, 71],\n",
       " 63: [59, 96, 70, 46, 82, 27, 37, 23, 57, 84],\n",
       " 82: [46, 64, 57, 63, 23, 70, 96, 85, 25, 56],\n",
       " 42: [89, 94, 12, 73, 31, 72, 14, 95, 98, 5],\n",
       " 41: [1, 39, 75, 97, 83, 17, 16, 11, 90, 92],\n",
       " 98: [66, 6, 72, 68, 94, 12, 5, 24, 89, 73],\n",
       " 96: [70, 63, 27, 46, 59, 82, 37, 23, 57, 64],\n",
       " 78: [45, 24, 67, 88, 68, 79, 87, 21, 66, 6],\n",
       " 12: [89, 94, 42, 73, 72, 31, 5, 98, 95, 51],\n",
       " 71: [20, 56, 61, 64, 25, 74, 85, 82, 57, 23]}"
      ]
     },
     "execution_count": 56,
     "metadata": {},
     "output_type": "execute_result"
    }
   ],
   "source": [
    "start_enhancement('random', cost_matrix=cost_matrix_C, distance_matrix=dist_matrix_C)"
   ]
  },
  {
   "cell_type": "code",
   "execution_count": 50,
   "metadata": {},
   "outputs": [
    {
     "name": "stderr",
     "output_type": "stream",
     "text": [
      "100%|██████████| 200/200 [00:55<00:00,  3.61it/s]\n"
     ]
    },
    {
     "data": {
      "text/plain": [
       "(75083.995, 218860.99, 0.04975008964538574, 0.0002487504482269287)"
      ]
     },
     "execution_count": 50,
     "metadata": {},
     "output_type": "execute_result"
    }
   ],
   "source": [
    "start_enhancement('random', cost_matrix=cost_matrix_D, distance_matrix=dist_matrix_D)"
   ]
  },
  {
   "cell_type": "code",
   "execution_count": null,
   "metadata": {},
   "outputs": [],
   "source": []
  }
 ],
 "metadata": {
  "kernelspec": {
   "display_name": "Python 3.9.7 ('base')",
   "language": "python",
   "name": "python3"
  },
  "language_info": {
   "codemirror_mode": {
    "name": "ipython",
    "version": 3
   },
   "file_extension": ".py",
   "mimetype": "text/x-python",
   "name": "python",
   "nbconvert_exporter": "python",
   "pygments_lexer": "ipython3",
   "version": "3.9.7"
  },
  "orig_nbformat": 4,
  "vscode": {
   "interpreter": {
    "hash": "40ff2f3c5fda09d612a4e997a2c110ac691c818ee9e0c88cff16f765d02f300a"
   }
  }
 },
 "nbformat": 4,
 "nbformat_minor": 2
}

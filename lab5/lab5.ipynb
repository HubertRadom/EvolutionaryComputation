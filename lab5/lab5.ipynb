{
 "cells": [
  {
   "cell_type": "code",
   "execution_count": 1,
   "metadata": {},
   "outputs": [],
   "source": [
    "import numpy as np\n",
    "import pandas as pd\n",
    "import random\n",
    "from matplotlib import pyplot as plt\n",
    "from numba import jit\n",
    "from tqdm import tqdm\n",
    "import itertools\n",
    "from itertools import combinations, permutations\n",
    "import time"
   ]
  },
  {
   "cell_type": "code",
   "execution_count": 2,
   "metadata": {},
   "outputs": [],
   "source": [
    "#data_A = np.loadtxt('../data/TSPA.csv', delimiter=';').astype(np.int64)\n",
    "#data_B = np.loadtxt('../data/TSPB.csv', delimiter=';').astype(np.int64)\n",
    "data_C = np.loadtxt('../data/TSPC.csv', delimiter=';').astype(np.int64)\n",
    "data_D = np.loadtxt('../data/TSPD.csv', delimiter=';').astype(np.int64)"
   ]
  },
  {
   "cell_type": "code",
   "execution_count": 3,
   "metadata": {},
   "outputs": [],
   "source": [
    "def create_cost_matrix(data):\n",
    "    x = data[:, :1]\n",
    "    y = data[:, 1:2]\n",
    "    cost = data[:, 2:3]\n",
    "    return (((x - x.reshape(1, -1))**2 + (y - y.reshape(1, -1))**2) ** (1/2) + cost.reshape(1, -1)).round().astype(np.int64)\n",
    "\n",
    "def create_dist_matrix(data):\n",
    "    x = data[:, :1]\n",
    "    y = data[:, 1:2]\n",
    "    #cost = data[:, 2:3]\n",
    "    return (((x - x.reshape(1, -1))**2 + (y - y.reshape(1, -1))**2) ** (1/2)).round().astype(np.int64)"
   ]
  },
  {
   "cell_type": "code",
   "execution_count": 4,
   "metadata": {},
   "outputs": [],
   "source": [
    "cost_matrix_C = create_cost_matrix(data_C)"
   ]
  },
  {
   "cell_type": "code",
   "execution_count": 5,
   "metadata": {},
   "outputs": [],
   "source": [
    "cost_matrix_D = create_cost_matrix(data_D)"
   ]
  },
  {
   "cell_type": "code",
   "execution_count": 6,
   "metadata": {},
   "outputs": [],
   "source": [
    "#dist_matrix_A = create_dist_matrix(data_A)\n",
    "#dist_matrix_B = create_dist_matrix(data_B)\n",
    "dist_matrix_C = create_dist_matrix(data_C)\n",
    "dist_matrix_D = create_dist_matrix(data_D)"
   ]
  },
  {
   "cell_type": "code",
   "execution_count": 7,
   "metadata": {},
   "outputs": [],
   "source": [
    "def plot(data, solution):\n",
    "    data_ordered = np.array([data[i] for i in solution])\n",
    "    all_data = np.array([data[i] for i in range(200)])\n",
    "\n",
    "    plt.figure(figsize=(10, 10), dpi=80)\n",
    "\n",
    "    plt.scatter(data_ordered[:,0], data_ordered[:,1], s=data_ordered[:,2]/data_ordered[:,2].max()*200, c='b')\n",
    "    plt.scatter(all_data[:,0], all_data[:,1], s=all_data[:,2]/all_data[:,2].max()*200, c='b')\n",
    "    plt.plot(data_ordered[:,0], data_ordered[:,1], 'y-')\n",
    "    plt.plot([data_ordered[0,0], data_ordered[-1,0]], [data_ordered[0,1], data_ordered[-1,1]], 'y-')\n",
    "    plt.show()"
   ]
  },
  {
   "cell_type": "code",
   "execution_count": 8,
   "metadata": {},
   "outputs": [],
   "source": [
    "def calculate_performance(cycle, cost_matrix):\n",
    "    total_sum = 0\n",
    "    for i in range(len(cycle)-1):\n",
    "        total_sum += cost_matrix[cycle[i], cycle[i+1]]\n",
    "    total_sum += cost_matrix[cycle[-1], cycle[0]]\n",
    "    return total_sum"
   ]
  },
  {
   "cell_type": "code",
   "execution_count": 10,
   "metadata": {},
   "outputs": [
    {
     "name": "stdout",
     "output_type": "stream",
     "text": [
      "[  9  74 149  72  38 141 193 108 195  13 110  18  60  62  40  56  15  93\n",
      " 194  47  17  53 107 124  64 192  46  42   2   4 142 140 133  51   1 154\n",
      "  25  34 198  11   6 167 196 161 113 114  68 134 120 116 155  26  85  50\n",
      "  22 191 180 138  23 165  14  95 117  79 178  31 105 152 106 151 125  35\n",
      "  49  88  61 186 123   0  44 143 112  77 136 182 184  63  19 128 162 197\n",
      "  67 104 132 122 158  78  54  66 171 121]\n"
     ]
    }
   ],
   "source": [
    "def random_solution(cost_matrix, limit=100):\n",
    "    random_solution_list = list(range(0,len(cost_matrix)))\n",
    "    random.shuffle(random_solution_list)\n",
    "    return np.array(random_solution_list)[:limit]\n",
    "\n",
    "solution = random_solution(cost_matrix_C, 100)\n",
    "print(solution)"
   ]
  },
  {
   "cell_type": "code",
   "execution_count": 11,
   "metadata": {},
   "outputs": [],
   "source": [
    "def greedy_cycle(cost_matrix, current_id, limit=100):\n",
    "    all_ids = set(list(range(0,len(cost_matrix))))\n",
    "    all_ids.remove(current_id)\n",
    "    solution = [current_id]\n",
    "    \n",
    "    for _ in range(1):\n",
    "        min_val = 99999\n",
    "        min_id = -1\n",
    "        for next_id in all_ids:\n",
    "            if cost_matrix[current_id][next_id] < min_val:\n",
    "                min_val = cost_matrix[current_id][next_id]\n",
    "                min_id = next_id\n",
    "        solution.append(min_id)\n",
    "        all_ids.remove(min_id)\n",
    "        current_id = min_id\n",
    "    \n",
    "    while len(solution) < limit:\n",
    "        min_delta = 99999\n",
    "        min_id = -1\n",
    "        insert_id = -1\n",
    "        for i in range(len(solution)-1):\n",
    "            for next_id in all_ids:\n",
    "                delta = cost_matrix[solution[i]][next_id] + cost_matrix[next_id][solution[i+1]] - cost_matrix[solution[i]][solution[i+1]]\n",
    "                if delta < min_delta:\n",
    "                    min_delta = delta\n",
    "                    min_id = next_id\n",
    "                    insert_id = i\n",
    "        for next_id in all_ids:\n",
    "            delta = cost_matrix[solution[-1]][next_id] + cost_matrix[next_id][solution[0]] - cost_matrix[solution[-1]][solution[0]]\n",
    "            if delta < min_delta:\n",
    "                min_delta = delta\n",
    "                min_id = next_id\n",
    "                insert_id = i\n",
    "        solution.insert(insert_id+1, min_id)\n",
    "        all_ids.remove(min_id)\n",
    "\n",
    "    return np.array(solution)"
   ]
  },
  {
   "cell_type": "code",
   "execution_count": 12,
   "metadata": {},
   "outputs": [],
   "source": [
    "# swap node in cycle and unused node\n",
    "def inter_exchange_delta(cycle, cost_matrix, used_cycle_id, unused_node):\n",
    "    if used_cycle_id == len(cycle)-1:\n",
    "        return cost_matrix[cycle[used_cycle_id-1], unused_node] + cost_matrix[unused_node, cycle[0]] - cost_matrix[cycle[used_cycle_id-1], cycle[used_cycle_id]] - cost_matrix[cycle[used_cycle_id], cycle[0]]\n",
    "    return cost_matrix[cycle[used_cycle_id-1], unused_node] + cost_matrix[unused_node, cycle[used_cycle_id+1]] - cost_matrix[cycle[used_cycle_id-1], cycle[used_cycle_id]] - cost_matrix[cycle[used_cycle_id], cycle[used_cycle_id+1]]"
   ]
  },
  {
   "cell_type": "code",
   "execution_count": 13,
   "metadata": {},
   "outputs": [],
   "source": [
    "def intra_two_nodes_exchange_delta(cycle, cost_matrix, node1, node2, pri = False):\n",
    "    # print(node1, node2)\n",
    "    if node1 == len(cycle)-1:\n",
    "        node1plus = 0\n",
    "    else:\n",
    "        node1plus = node1 + 1\n",
    "    \n",
    "    if node2 == len(cycle)-1:\n",
    "        node2plus = 0\n",
    "    else:\n",
    "        node2plus = node2 + 1\n",
    "\n",
    "    if abs(node1-node2) == 1:\n",
    "        if node1 > node2:\n",
    "            node1, node2 = node2, node1\n",
    "            node1plus, node2plus = node2plus, node1plus\n",
    "        return cost_matrix[cycle[node1-1], cycle[node2]] + cost_matrix[cycle[node2], cycle[node1]] + cost_matrix[cycle[node1], cycle[node2plus]] - cost_matrix[cycle[node1-1], cycle[node1]] - cost_matrix[cycle[node1], cycle[node2]] - cost_matrix[cycle[node2], cycle[node2plus]]\n",
    "    if abs(node1-node2) == len(cycle)-1:\n",
    "        if node1 < node2:\n",
    "            node1, node2 = node2, node1\n",
    "            node1plus, node2plus = node2plus, node1plus\n",
    "        return cost_matrix[cycle[node1-1], cycle[node2]] + cost_matrix[cycle[node2], cycle[node1]] + cost_matrix[cycle[node1], cycle[node2plus]] - cost_matrix[cycle[node1-1], cycle[node1]] - cost_matrix[cycle[node1], cycle[node2]] - cost_matrix[cycle[node2], cycle[node2plus]]\n",
    "\n",
    "    return cost_matrix[cycle[node1-1], cycle[node2]] + cost_matrix[cycle[node2], cycle[node1plus]] + cost_matrix[cycle[node2-1], cycle[node1]] + cost_matrix[cycle[node1], cycle[node2plus]] - cost_matrix[cycle[node1-1], cycle[node1]] - cost_matrix[cycle[node1], cycle[node1plus]] - cost_matrix[cycle[node2-1], cycle[node2]] - cost_matrix[cycle[node2], cycle[node2plus]]"
   ]
  },
  {
   "cell_type": "code",
   "execution_count": 14,
   "metadata": {},
   "outputs": [],
   "source": [
    "def intra_two_edges_exchange_delta(cycle, dist_matrix, node1, node2):\n",
    "    if node1 == len(cycle)-1 or node2 == len(cycle)-1 or abs(node1-node2) < 2:\n",
    "        return 99999\n",
    "    #print(cost_matrix[cycle[node1], cycle[node2]], cost_matrix[cycle[node1+1], cycle[node2+1]], cost_matrix[cycle[node1], cycle[node1+1]], cost_matrix[cycle[node2], cycle[node2+1]])\n",
    "    return dist_matrix[cycle[node1], cycle[node2]] + dist_matrix[cycle[node1+1], cycle[node2+1]] - dist_matrix[cycle[node1], cycle[node1+1]] - dist_matrix[cycle[node2], cycle[node2+1]]\n"
   ]
  },
  {
   "cell_type": "code",
   "execution_count": 15,
   "metadata": {},
   "outputs": [],
   "source": [
    "def steepest_local_search(cost_matrix, dist_matrix, nodes_exchange = True, initial_greedy = False, starting_node = None):\n",
    "    if initial_greedy:\n",
    "        if starting_node:\n",
    "            cycle = greedy_cycle(cost_matrix, starting_node)\n",
    "        else:\n",
    "            cycle = greedy_cycle(cost_matrix, random.randint(0, len(cost_matrix)-1))\n",
    "    else:\n",
    "        cycle = random_solution(cost_matrix)\n",
    "    unused_nodes = set(list(range(0,len(cost_matrix))))\n",
    "    for node in cycle:\n",
    "        unused_nodes.remove(node)\n",
    "\n",
    "    all_combinations = list(combinations(list(range(0, 100)), 2))\n",
    "\n",
    "    while(True):\n",
    "        best_delta, swap_node_a, swap_node_b, best_type = 0, None, None, None\n",
    "        for used_cycle_id in range(len(cycle)):\n",
    "            for unused_node in unused_nodes:\n",
    "                delta = inter_exchange_delta(cycle, cost_matrix, used_cycle_id, unused_node)\n",
    "                if delta < best_delta:\n",
    "                    best_delta, swap_node_a, swap_node_b, best_type = delta, used_cycle_id, unused_node, 'inter_exchange'\n",
    "        if nodes_exchange:\n",
    "            for x, y in all_combinations:\n",
    "                delta = intra_two_nodes_exchange_delta(cycle, cost_matrix, x, y)\n",
    "                if delta < best_delta:\n",
    "                    best_delta, swap_node_a, swap_node_b, best_type = delta, x, y, 'intra_two_nodes_exchange'\n",
    "        else:\n",
    "            for x, y in all_combinations:\n",
    "                delta = intra_two_edges_exchange_delta(cycle, dist_matrix, x, y)\n",
    "                if delta < best_delta:\n",
    "                    best_delta, swap_node_a, swap_node_b, best_type = delta, x, y, 'intra_two_edges_exchange'\n",
    "\n",
    "        if best_type is not None:\n",
    "            if best_type == 'inter_exchange':\n",
    "                unused_nodes.add(cycle[swap_node_a])\n",
    "                unused_nodes.remove(swap_node_b)\n",
    "                cycle[swap_node_a] = swap_node_b\n",
    "            elif best_type == 'intra_two_nodes_exchange':\n",
    "                cycle[swap_node_a], cycle[swap_node_b] = cycle[swap_node_b], cycle[swap_node_a]\n",
    "            elif best_type == 'intra_two_edges_exchange':\n",
    "                cycle[swap_node_a+1], cycle[swap_node_b] = cycle[swap_node_b], cycle[swap_node_a+1]\n",
    "                cycle[swap_node_a+2:swap_node_b] = cycle[swap_node_a+2:swap_node_b][::-1]\n",
    "        else:\n",
    "            break\n",
    "    return cycle"
   ]
  },
  {
   "cell_type": "code",
   "execution_count": 16,
   "metadata": {},
   "outputs": [],
   "source": [
    "def steepest_local_search_edge_exchange_improving_moves(cost_matrix, dist_matrix):\n",
    "    cycle = random_solution(cost_matrix)\n",
    "    unused_nodes = set(list(range(0,len(cost_matrix))))\n",
    "    used_nodes = set()\n",
    "    for node in cycle:\n",
    "        unused_nodes.remove(node)\n",
    "        used_nodes.add(node)\n",
    "\n",
    "    all_combinations = list(combinations(list(range(0, 100)), 2))\n",
    "\n",
    "    # Initiate LM – a list of moves that bring improvement ordered from the best to the worst\n",
    "    LM = []\n",
    "    for used_cycle_id in range(len(cycle)):\n",
    "        for unused_node in unused_nodes:\n",
    "            delta = inter_exchange_delta(cycle, cost_matrix, used_cycle_id, unused_node)\n",
    "            if delta < 0:\n",
    "                LM.append((delta, 'inter_exchange', used_cycle_id, cycle[used_cycle_id], unused_node, 0, 0, 0))\n",
    "    for x, y in all_combinations:\n",
    "        delta = intra_two_edges_exchange_delta(cycle, dist_matrix, x, y)\n",
    "        if delta < 0:\n",
    "            LM.append((delta, 'intra_two_edges_exchange', x, y, cycle[x], cycle[x+1], cycle[y], cycle[y+1]))\n",
    "    LM.sort(key=lambda x: x[0])\n",
    "    LM = np.array(LM, dtype=object)\n",
    "\n",
    "    # until no move has been found after checking the whole list LM\n",
    "    any_applicable = True\n",
    "    to_remove = []\n",
    "    while(any_applicable):\n",
    "\n",
    "        new_moves_intra, new_moves_inter, new_moves_inter_from_intra, new_moves_intra_from_inter = None, None, None, None\n",
    "        any_applicable = False\n",
    "        to_remove = []\n",
    "\n",
    "        # for moves m from LM starting from the best until a applicable move is found\n",
    "        for k in range(len(LM)):\n",
    "            move = LM[k]\n",
    "            if move[1] == 'intra_two_edges_exchange':    \n",
    "                node1, node1plus, node2, node2plus = move[4], move[5], move[6], move[7]\n",
    "                node1_next, node1_prev, node2_next, node2_prev = False, False, False, False\n",
    "                idx1, idx2 = move[2], move[3]\n",
    "                if idx1 > idx2:\n",
    "                    node1, node2 = node2, node1\n",
    "                    node1plus, node2plus = node2plus, node1plus\n",
    "                    idx1, idx2 = idx2, idx1\n",
    "\n",
    "                if cycle[idx1] == node1 and cycle[idx1+1] == node1plus:\n",
    "                    node1_next = True\n",
    "                elif cycle[idx1] == node1plus and cycle[idx1+1] == node1:\n",
    "                    node1_prev = True\n",
    "                \n",
    "                if cycle[idx2] == node2 and cycle[idx2+1] == node2plus:\n",
    "                    node2_next = True\n",
    "                elif cycle[idx2] == node2plus and cycle[idx2+1] == node2:\n",
    "                    node2_prev = True\n",
    "\n",
    "                # TODO: repair\n",
    "                if node1_next and node2_next:\n",
    "                    # apply move and remove from LM\n",
    "                    cycle[idx1+1], cycle[idx2] = cycle[idx2], cycle[idx1+1]\n",
    "                    cycle[idx1+2:idx2] = cycle[idx1+2:idx2][::-1]                    \n",
    "                    to_remove.append(k)\n",
    "                    any_applicable = True\n",
    "                    new_moves_intra = (idx1, idx2)\n",
    "                    new_moves_inter_from_intra = (idx1, idx1+1, idx2, idx2+1)\n",
    "                    break\n",
    "                elif node1_prev and node2_prev:\n",
    "                    # apply move and remove from LM\n",
    "                    cycle[idx1], cycle[idx2-1] = cycle[idx2-1], cycle[idx1]\n",
    "                    cycle[idx1+1:idx2-1] = cycle[idx1+1:idx2-1][::-1]\n",
    "                    to_remove.append(k)\n",
    "                    any_applicable = True\n",
    "                    new_moves_intra = (idx1, idx2)\n",
    "                    new_moves_inter_from_intra = (idx1, idx1+1, idx2, idx2+1)\n",
    "                    break\n",
    "                if (node1_next and node2_prev) or (node1_prev and node2_next):\n",
    "                    continue\n",
    "                to_remove.append(k)\n",
    "\n",
    "            if move[1] == 'inter_exchange':\n",
    "                used_cycle_id, used_node, unused_node = move[2], move[3], move[4]\n",
    "                # check if move is applicable\n",
    "                if cycle[used_cycle_id] == used_node and used_node in used_nodes and unused_node in unused_nodes:\n",
    "                    unused_nodes.add(used_node)\n",
    "                    unused_nodes.remove(unused_node)\n",
    "                    used_nodes.add(unused_node)\n",
    "                    used_nodes.remove(used_node)\n",
    "                    cycle[used_cycle_id] = unused_node\n",
    "                    any_applicable = True\n",
    "                    new_moves_inter = (used_cycle_id, used_node)\n",
    "                    new_moves_intra_from_inter = (used_cycle_id)\n",
    "                    to_remove.append(k)\n",
    "                    break\n",
    "                to_remove.append(k)\n",
    "\n",
    "        LM = np.delete(LM, to_remove, axis=0)\n",
    "\n",
    "        # INTER\n",
    "        newLM = []\n",
    "        if new_moves_inter:\n",
    "            used_cycle_id, old_used_node = new_moves_inter\n",
    "            LM = LM[(LM[:,1] != 'inter_exchange') | (LM[:,2] != used_cycle_id)]\n",
    "            LM = LM[(LM[:,1] != 'inter_exchange') | (LM[:,2] != used_cycle_id-1)]\n",
    "            LM = LM[(LM[:,1] != 'inter_exchange') | (LM[:,2] != ((used_cycle_id + 1)%len(cycle)))]\n",
    "            LM = LM[(LM[:,1] != 'inter_exchange') | (LM[:,4] != old_used_node)]\n",
    "\n",
    "            for unus in unused_nodes:\n",
    "                delta = inter_exchange_delta(cycle, cost_matrix, used_cycle_id, unus)\n",
    "                if delta < 0:\n",
    "                    newLM.append((delta, 'inter_exchange', used_cycle_id, cycle[used_cycle_id], unus, 0, 0, 0))\n",
    "\n",
    "                idx = used_cycle_id - 1\n",
    "                delta = inter_exchange_delta(cycle, cost_matrix, idx, unus)\n",
    "                if delta < 0:\n",
    "                    newLM.append((delta, 'inter_exchange', idx, cycle[idx], unus, 0, 0, 0))\n",
    "\n",
    "                idx = (used_cycle_id + 1)%len(cycle)\n",
    "                delta = inter_exchange_delta(cycle, cost_matrix, idx, unus)\n",
    "                if delta < 0:\n",
    "                    newLM.append((delta, 'inter_exchange', idx, cycle[idx], unus, 0, 0, 0))\n",
    "                    \n",
    "            for i in range(len(cycle)):\n",
    "                delta = inter_exchange_delta(cycle, cost_matrix, i, old_used_node)\n",
    "                if delta < 0:\n",
    "                    newLM.append((delta, 'inter_exchange', i, cycle[i], unus, 0, 0, 0))\n",
    "\n",
    "\n",
    "        # INTRA\n",
    "        if new_moves_intra:\n",
    "            x, y = new_moves_intra\n",
    "            LM = LM[(LM[:,1] != 'intra_two_edges_exchange') | (LM[:,2] != used_cycle_id)]\n",
    "            if x > y:\n",
    "                x, y = y, x\n",
    "            all_combinations = list(itertools.product(list(range(len(cycle))), list(range(x, y+2))))\n",
    "            for z, b in all_combinations:\n",
    "                delta = intra_two_edges_exchange_delta(cycle, dist_matrix, z, b)\n",
    "                if delta < 0:\n",
    "                    newLM.append((delta, 'intra_two_edges_exchange', z, b, cycle[z], cycle[z+1], cycle[b], cycle[b+1]))\n",
    "        \n",
    "        # NEW FROM OTHER\n",
    "        if new_moves_intra_from_inter:\n",
    "            used_cycle_id = new_moves_intra_from_inter\n",
    "            if used_cycle_id < 0:\n",
    "                used_cycle_id = 0\n",
    "            all_combinations = []\n",
    "\n",
    "            all_combinations = list(itertools.product(list(range(len(cycle))), list(range(used_cycle_id-1, (used_cycle_id+3)%len(cycle)))))\n",
    "            for z, b in all_combinations:\n",
    "                delta = intra_two_edges_exchange_delta(cycle, dist_matrix, z, b)\n",
    "                if delta < 0:\n",
    "                    newLM.append((delta, 'intra_two_edges_exchange', z, b, cycle[z], cycle[z+1], cycle[b], cycle[b+1]))\n",
    "\n",
    "        if new_moves_inter_from_intra:\n",
    "            for used_cycle_id in new_moves_inter_from_intra:\n",
    "                LM = LM[(LM[:,1] != 'inter_exchange') | (LM[:,2] != used_cycle_id)]\n",
    "                for unus in unused_nodes:\n",
    "                    delta = inter_exchange_delta(cycle, cost_matrix, used_cycle_id, unus)\n",
    "                    if delta < 0:\n",
    "                        newLM.append((delta, 'inter_exchange', used_cycle_id, cycle[used_cycle_id], unus, 0, 0, 0))\n",
    "        \n",
    "        newLM = np.array(newLM, dtype=object)\n",
    "        if len(newLM) > 0:\n",
    "            LM = np.append(LM, newLM, axis=0)\n",
    "        LM = LM[LM[:, 0].argsort()]\n",
    "    \n",
    "    return cycle"
   ]
  },
  {
   "cell_type": "code",
   "execution_count": 49,
   "metadata": {},
   "outputs": [],
   "source": [
    "# Optional profiling\n",
    "%load_ext line_profiler"
   ]
  },
  {
   "cell_type": "code",
   "execution_count": null,
   "metadata": {},
   "outputs": [],
   "source": [
    "%lprun -f steepest_local_search_edge_exchange_improving_moves steepest_local_search_edge_exchange_improving_moves(cost_matrix_C, dist_matrix_C)"
   ]
  },
  {
   "cell_type": "markdown",
   "metadata": {},
   "source": [
    "Tests"
   ]
  },
  {
   "cell_type": "code",
   "execution_count": 17,
   "metadata": {},
   "outputs": [],
   "source": [
    "def present_results(min, max, average, time):\n",
    "    print(\"{: >10} {: >10} {: >10} {: >10}\".format('MIN', 'MAX', 'AVG', 'TIME'))\n",
    "    print(\"{: >10} {: >10} {: >10} {: >10}\".format(min, max, average, time))\n",
    "    print()"
   ]
  },
  {
   "cell_type": "code",
   "execution_count": 18,
   "metadata": {},
   "outputs": [],
   "source": [
    "# local_search(cost_matrix, inter = True, initial_greedy = False, starting_node = None)\n",
    "def test_solution(cost_matrix, dist_matrix, improving_moves):\n",
    "    start = time.time()\n",
    "    costs = []\n",
    "    for i in tqdm(range(len(cost_matrix))):\n",
    "        if improving_moves:\n",
    "            cycle = steepest_local_search_edge_exchange_improving_moves(cost_matrix, dist_matrix)\n",
    "        else:\n",
    "            cycle = steepest_local_search(cost_matrix, dist_matrix, nodes_exchange = False, initial_greedy = False)\n",
    "        total_cost = calculate_performance(cycle, cost_matrix)\n",
    "        costs.append(total_cost)\n",
    "    costs = np.array(costs)\n",
    "    return costs.min(), costs.max(), costs.mean(), time.time() - start"
   ]
  },
  {
   "cell_type": "markdown",
   "metadata": {},
   "source": [
    "local search | neighborhood | starting solutions"
   ]
  },
  {
   "cell_type": "code",
   "execution_count": 24,
   "metadata": {},
   "outputs": [
    {
     "name": "stdout",
     "output_type": "stream",
     "text": [
      "DATASET C - STEEPEST | EDGES | RANDOM - WITHOUT IMPROVING MOVES\n"
     ]
    },
    {
     "name": "stderr",
     "output_type": "stream",
     "text": [
      "100%|██████████| 200/200 [07:50<00:00,  2.35s/it]"
     ]
    },
    {
     "name": "stdout",
     "output_type": "stream",
     "text": [
      "       MIN        MAX        AVG       TIME\n",
      "     49109      55709  51777.445 470.04248428344727\n",
      "\n"
     ]
    },
    {
     "name": "stderr",
     "output_type": "stream",
     "text": [
      "\n"
     ]
    }
   ],
   "source": [
    "print('DATASET C - STEEPEST | EDGES | RANDOM - WITHOUT IMPROVING MOVES')\n",
    "present_results(*test_solution(cost_matrix_C, dist_matrix_C, False))"
   ]
  },
  {
   "cell_type": "code",
   "execution_count": 23,
   "metadata": {},
   "outputs": [
    {
     "name": "stdout",
     "output_type": "stream",
     "text": [
      "DATASET D - STEEPEST | EDGES | RANDOM - WITHOUT IMPROVING MOVES\n"
     ]
    },
    {
     "name": "stderr",
     "output_type": "stream",
     "text": [
      "100%|██████████| 200/200 [07:57<00:00,  2.39s/it]"
     ]
    },
    {
     "name": "stdout",
     "output_type": "stream",
     "text": [
      "       MIN        MAX        AVG       TIME\n",
      "     45676      52036   48497.86 477.2460265159607\n",
      "\n"
     ]
    },
    {
     "name": "stderr",
     "output_type": "stream",
     "text": [
      "\n"
     ]
    }
   ],
   "source": [
    "print('DATASET D - STEEPEST | EDGES | RANDOM - WITHOUT IMPROVING MOVES')\n",
    "present_results(*test_solution(cost_matrix_D, dist_matrix_D, False))"
   ]
  },
  {
   "cell_type": "code",
   "execution_count": 24,
   "metadata": {},
   "outputs": [
    {
     "name": "stdout",
     "output_type": "stream",
     "text": [
      "DATASET C - STEEPEST | EDGES | RANDOM - WITH IMPROVING MOVES\n"
     ]
    },
    {
     "name": "stderr",
     "output_type": "stream",
     "text": [
      "100%|██████████| 200/200 [05:35<00:00,  1.68s/it]"
     ]
    },
    {
     "name": "stdout",
     "output_type": "stream",
     "text": [
      "       MIN        MAX        AVG       TIME\n",
      "     49920      56447   52410.28 335.9229564666748\n",
      "\n"
     ]
    },
    {
     "name": "stderr",
     "output_type": "stream",
     "text": [
      "\n"
     ]
    }
   ],
   "source": [
    "print('DATASET C - STEEPEST | EDGES | RANDOM - WITH IMPROVING MOVES')\n",
    "present_results(*test_solution(cost_matrix_C, dist_matrix_C, True))"
   ]
  },
  {
   "cell_type": "code",
   "execution_count": 25,
   "metadata": {},
   "outputs": [
    {
     "name": "stdout",
     "output_type": "stream",
     "text": [
      "DATASET D - STEEPEST | EDGES | RANDOM - WITH IMPROVING MOVES\n"
     ]
    },
    {
     "name": "stderr",
     "output_type": "stream",
     "text": [
      "100%|██████████| 200/200 [05:43<00:00,  1.72s/it]"
     ]
    },
    {
     "name": "stdout",
     "output_type": "stream",
     "text": [
      "       MIN        MAX        AVG       TIME\n",
      "     46839      54113  49456.445 343.73134899139404\n",
      "\n"
     ]
    },
    {
     "name": "stderr",
     "output_type": "stream",
     "text": [
      "\n"
     ]
    }
   ],
   "source": [
    "print('DATASET D - STEEPEST | EDGES | RANDOM - WITH IMPROVING MOVES')\n",
    "present_results(*test_solution(cost_matrix_D, dist_matrix_D, True))"
   ]
  }
 ],
 "metadata": {
  "kernelspec": {
   "display_name": "Python 3.10.8 64-bit (microsoft store)",
   "language": "python",
   "name": "python3"
  },
  "language_info": {
   "codemirror_mode": {
    "name": "ipython",
    "version": 3
   },
   "file_extension": ".py",
   "mimetype": "text/x-python",
   "name": "python",
   "nbconvert_exporter": "python",
   "pygments_lexer": "ipython3",
   "version": "3.10.8"
  },
  "orig_nbformat": 4,
  "vscode": {
   "interpreter": {
    "hash": "ee18e0e219778542b5e0b8fcb4f6314a8b6e3ce5195335662cf8a9606ca596cf"
   }
  }
 },
 "nbformat": 4,
 "nbformat_minor": 2
}
